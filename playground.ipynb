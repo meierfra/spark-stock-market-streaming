{
 "cells": [
  {
   "cell_type": "markdown",
   "metadata": {},
   "source": [
    "# Playground Notebook\n",
    "## To try, validate and debug the code into the dashboard"
   ]
  },
  {
   "cell_type": "code",
   "execution_count": 166,
   "metadata": {},
   "outputs": [],
   "source": [
    "import pandas as pd\n",
    "from pandas.io.json import json_normalize\n",
    "import json\n",
    "import os"
   ]
  },
  {
   "cell_type": "code",
   "execution_count": 167,
   "metadata": {},
   "outputs": [],
   "source": [
    "# Stock Names\n",
    "stock_names = {'GS':'Goldman Sachs Group Inc',\n",
    "               'LMT':'Lockheed Martin Corporation',\n",
    "               'TSLA':'TESLA',\n",
    "               'MSFT':'Microsoft Corporation',\n",
    "               'AAPL':'Apple Inc.',\n",
    "               'MCD':'McDonalds Corporation',\n",
    "               'NKE':'Nike Inc',\n",
    "               'PFE':'Pfizer Inc.',\n",
    "               'FB':'Facebook, Inc.',\n",
    "               'GOOGL':'Alphabet Inc.'\n",
    "              }"
   ]
  },
  {
   "cell_type": "code",
   "execution_count": 168,
   "metadata": {},
   "outputs": [],
   "source": [
    "# Name of timestamp to parse on the raw data file\n",
    "stamp_name = '4. timestamp'"
   ]
  },
  {
   "cell_type": "code",
   "execution_count": 169,
   "metadata": {},
   "outputs": [],
   "source": [
    "# Column names on the raw data file\n",
    "header_names = {'1. symbol':'sym',\n",
    "                '2. price':'$', \n",
    "                '3. volume':'vol'}"
   ]
  },
  {
   "cell_type": "code",
   "execution_count": 170,
   "metadata": {},
   "outputs": [],
   "source": [
    "# Home directory\n",
    "home_dir = os.path.expanduser(r'~/Documents/ZHAW/MAIN/04_Big_Data/30_Project/')\n",
    "# Stock market data directory\n",
    "stock_dir = r'spark-stock-market-streaming/collected_data/'\n",
    "# Tweet data directory\n",
    "tweet_dir = r'???'"
   ]
  },
  {
   "cell_type": "markdown",
   "metadata": {},
   "source": [
    "### Build Dataframe from json files"
   ]
  },
  {
   "cell_type": "code",
   "execution_count": 171,
   "metadata": {},
   "outputs": [],
   "source": [
    "def buildDF(base_dir, data_dir, json_col):\n",
    "    '''Construct a big dataframe by aggregating the individual json files\n",
    "    located at the proper data directory\n",
    "    Args:\n",
    "        base_dir(str), the home or base directory\n",
    "        data_dir(str), the directory containing the data\n",
    "        json_col(str), which column to normalize from the json file\n",
    "    return:\n",
    "        df(dataframe), full dataframe iaw json structure'''\n",
    "    folder = os.path.join(base_dir + data_dir)\n",
    "    files = os.listdir(folder)\n",
    "    count_files = 0\n",
    "    for file in files:\n",
    "        file_path = os.path.join(folder + file)\n",
    "        with open(file_path) as data_file:\n",
    "            data = json.load(data_file)\n",
    "            if count_files == 0:\n",
    "                df = json_normalize(data, json_col)\n",
    "                print('---- Base Dataframe ----')\n",
    "                print('Lenght of base dataframe is: ', len(df))\n",
    "                print(file_path)\n",
    "                print(df.head())\n",
    "                count_files += 1\n",
    "            else:\n",
    "                df_temp = json_normalize(data, json_col)\n",
    "                df = df.append(df_temp, ignore_index=True)\n",
    "                count_files += 1\n",
    "    print('------------------------')\n",
    "    print('Total files read: ' + str(count_files))\n",
    "    print('---- %d Dataframes appended ----' %count_files)\n",
    "    print('Total lenght of dataframe is: ', len(df))\n",
    "    return df"
   ]
  },
  {
   "cell_type": "code",
   "execution_count": 172,
   "metadata": {},
   "outputs": [
    {
     "name": "stdout",
     "output_type": "stream",
     "text": [
      "---- Base Dataframe ----\n",
      "Lenght of base dataframe is:  10\n",
      "/home/hase/Documents/ZHAW/MAIN/04_Big_Data/30_Project/spark-stock-market-streaming/collected_data/20180611-221636.json\n",
      "  1. symbol  2. price 3. volume         4. timestamp\n",
      "0      TSLA  332.0500  12997109  2018-06-11 16:00:00\n",
      "1      AAPL  191.1600  17974245  2018-06-11 16:09:39\n",
      "2      MSFT  101.0500  22795861  2018-06-11 16:11:44\n",
      "3       MCD  166.4400   3214869  2018-06-11 16:00:43\n",
      "4       NKE   74.5700   4676668  2018-06-11 16:02:14\n",
      "------------------------\n",
      "Total files read: 1061\n",
      "---- 1061 Dataframes appended ----\n",
      "Total lenght of dataframe is:  10610\n"
     ]
    }
   ],
   "source": [
    "dfs = buildDF(home_dir, stock_dir, 'Stock Quotes')"
   ]
  },
  {
   "cell_type": "markdown",
   "metadata": {},
   "source": [
    "### Data Pre-processing"
   ]
  },
  {
   "cell_type": "code",
   "execution_count": 173,
   "metadata": {},
   "outputs": [],
   "source": [
    "def transDF(df, stamp, header, names):\n",
    "    '''Pre-processing of the data by doing some transformations\n",
    "    and aggregations to the dataframe created previously\n",
    "    Args:\n",
    "        df(dataframe): input dataframe\n",
    "        stamp(str): name column to parse for datetime\n",
    "        header(dict): a dictionary with {'original col name':'new col name'}\n",
    "        names(dict): a dictionary with the mapping {'stock abrev.':'stock full name'}\n",
    "    return:\n",
    "        df(dataframe): transformed dataframe'''\n",
    "    print('---- Input Dataframe ----')\n",
    "    print(df.head())\n",
    "    # Parse date and time\n",
    "    print('------------------------')\n",
    "    print('Parsing datetimes...')\n",
    "    df['stamp'] = pd.to_datetime(df[stamp])\n",
    "    df['date'] = df['stamp'].dt.date\n",
    "    #df['year'] = df['stamp'].dt.year\n",
    "    #df['month'] = df['stamp'].dt.strftime('%b')\n",
    "    #df['day'] = df['stamp'].dt.day\n",
    "    df['time'] = df['stamp'].dt.time\n",
    "    print('Dropping auxiliary columns...')\n",
    "    df.drop([stamp], axis=1, inplace=True)\n",
    "    # Set dataframe index\n",
    "    df.set_index(['date', 'time'], inplace=True)\n",
    "    #df.set_index(['year', 'month', 'day', 'time'], inplace=True)\n",
    "    print('Multi-index set from: ', stamp)\n",
    "    print('Renaming columns...')\n",
    "    df.rename(columns=header, inplace=True)\n",
    "    print('Drop duplicates...')\n",
    "    original_len = len(df)\n",
    "    df.drop_duplicates(inplace=True)\n",
    "    drop_len = len(df)\n",
    "    print('Dataframe reduced from %d to %d rows' %(original_len, drop_len))\n",
    "    df.sort_index(inplace=True)\n",
    "    print('Renaming rows...')\n",
    "    for key, value in names.items():\n",
    "        mask = df.sym == key\n",
    "        df.loc[mask, 'sym'] = value + ', ' + '(' + key + ')'\n",
    "    print('---- Modified Dataframe ----')\n",
    "    print(df.head())\n",
    "    return df"
   ]
  },
  {
   "cell_type": "code",
   "execution_count": 174,
   "metadata": {},
   "outputs": [
    {
     "name": "stdout",
     "output_type": "stream",
     "text": [
      "---- Input Dataframe ----\n",
      "  1. symbol  2. price 3. volume         4. timestamp\n",
      "0      TSLA  332.0500  12997109  2018-06-11 16:00:00\n",
      "1      AAPL  191.1600  17974245  2018-06-11 16:09:39\n",
      "2      MSFT  101.0500  22795861  2018-06-11 16:11:44\n",
      "3       MCD  166.4400   3214869  2018-06-11 16:00:43\n",
      "4       NKE   74.5700   4676668  2018-06-11 16:02:14\n",
      "------------------------\n",
      "Parsing datetimes...\n",
      "Dropping auxiliary columns...\n",
      "Multi-index set from:  4. timestamp\n",
      "Renaming columns...\n",
      "Drop duplicates...\n",
      "Dataframe reduced from 10610 to 7455 rows\n",
      "Renaming rows...\n",
      "---- Modified Dataframe ----\n",
      "                                                    sym         $ vol  \\\n",
      "date       time                                                         \n",
      "2018-06-05 15:59:46       Goldman Sachs Group Inc, (GS)  228.3000  --   \n",
      "           15:59:53  Lockheed Martin Corporation, (LMT)  320.1300  --   \n",
      "           15:59:55                       TESLA, (TSLA)  290.9400  --   \n",
      "           15:59:55       Microsoft Corporation, (MSFT)  102.2100  --   \n",
      "           15:59:57                  Apple Inc., (AAPL)  193.3600  --   \n",
      "\n",
      "                                  stamp  \n",
      "date       time                          \n",
      "2018-06-05 15:59:46 2018-06-05 15:59:46  \n",
      "           15:59:53 2018-06-05 15:59:53  \n",
      "           15:59:55 2018-06-05 15:59:55  \n",
      "           15:59:55 2018-06-05 15:59:55  \n",
      "           15:59:57 2018-06-05 15:59:57  \n"
     ]
    }
   ],
   "source": [
    "dfss = transDF(dfs, stamp_name, header_names, stock_names)"
   ]
  },
  {
   "cell_type": "code",
   "execution_count": 175,
   "metadata": {},
   "outputs": [
    {
     "data": {
      "text/html": [
       "<div>\n",
       "<style>\n",
       "    .dataframe thead tr:only-child th {\n",
       "        text-align: right;\n",
       "    }\n",
       "\n",
       "    .dataframe thead th {\n",
       "        text-align: left;\n",
       "    }\n",
       "\n",
       "    .dataframe tbody tr th {\n",
       "        vertical-align: top;\n",
       "    }\n",
       "</style>\n",
       "<table border=\"1\" class=\"dataframe\">\n",
       "  <thead>\n",
       "    <tr style=\"text-align: right;\">\n",
       "      <th></th>\n",
       "      <th></th>\n",
       "      <th>sym</th>\n",
       "      <th>$</th>\n",
       "      <th>vol</th>\n",
       "      <th>stamp</th>\n",
       "    </tr>\n",
       "    <tr>\n",
       "      <th>date</th>\n",
       "      <th>time</th>\n",
       "      <th></th>\n",
       "      <th></th>\n",
       "      <th></th>\n",
       "      <th></th>\n",
       "    </tr>\n",
       "  </thead>\n",
       "  <tbody>\n",
       "    <tr>\n",
       "      <th rowspan=\"5\" valign=\"top\">2018-06-05</th>\n",
       "      <th>15:59:46</th>\n",
       "      <td>Goldman Sachs Group Inc, (GS)</td>\n",
       "      <td>228.3000</td>\n",
       "      <td>--</td>\n",
       "      <td>2018-06-05 15:59:46</td>\n",
       "    </tr>\n",
       "    <tr>\n",
       "      <th>15:59:53</th>\n",
       "      <td>Lockheed Martin Corporation, (LMT)</td>\n",
       "      <td>320.1300</td>\n",
       "      <td>--</td>\n",
       "      <td>2018-06-05 15:59:53</td>\n",
       "    </tr>\n",
       "    <tr>\n",
       "      <th>15:59:55</th>\n",
       "      <td>TESLA, (TSLA)</td>\n",
       "      <td>290.9400</td>\n",
       "      <td>--</td>\n",
       "      <td>2018-06-05 15:59:55</td>\n",
       "    </tr>\n",
       "    <tr>\n",
       "      <th>15:59:55</th>\n",
       "      <td>Microsoft Corporation, (MSFT)</td>\n",
       "      <td>102.2100</td>\n",
       "      <td>--</td>\n",
       "      <td>2018-06-05 15:59:55</td>\n",
       "    </tr>\n",
       "    <tr>\n",
       "      <th>15:59:57</th>\n",
       "      <td>Apple Inc., (AAPL)</td>\n",
       "      <td>193.3600</td>\n",
       "      <td>--</td>\n",
       "      <td>2018-06-05 15:59:57</td>\n",
       "    </tr>\n",
       "  </tbody>\n",
       "</table>\n",
       "</div>"
      ],
      "text/plain": [
       "                                                    sym         $ vol  \\\n",
       "date       time                                                         \n",
       "2018-06-05 15:59:46       Goldman Sachs Group Inc, (GS)  228.3000  --   \n",
       "           15:59:53  Lockheed Martin Corporation, (LMT)  320.1300  --   \n",
       "           15:59:55                       TESLA, (TSLA)  290.9400  --   \n",
       "           15:59:55       Microsoft Corporation, (MSFT)  102.2100  --   \n",
       "           15:59:57                  Apple Inc., (AAPL)  193.3600  --   \n",
       "\n",
       "                                  stamp  \n",
       "date       time                          \n",
       "2018-06-05 15:59:46 2018-06-05 15:59:46  \n",
       "           15:59:53 2018-06-05 15:59:53  \n",
       "           15:59:55 2018-06-05 15:59:55  \n",
       "           15:59:55 2018-06-05 15:59:55  \n",
       "           15:59:57 2018-06-05 15:59:57  "
      ]
     },
     "execution_count": 175,
     "metadata": {},
     "output_type": "execute_result"
    }
   ],
   "source": [
    "dfss.head()"
   ]
  },
  {
   "cell_type": "code",
   "execution_count": null,
   "metadata": {},
   "outputs": [],
   "source": []
  }
 ],
 "metadata": {
  "kernelspec": {
   "display_name": "Python [default]",
   "language": "python",
   "name": "python3"
  },
  "language_info": {
   "codemirror_mode": {
    "name": "ipython",
    "version": 3
   },
   "file_extension": ".py",
   "mimetype": "text/x-python",
   "name": "python",
   "nbconvert_exporter": "python",
   "pygments_lexer": "ipython3",
   "version": "3.6.4"
  }
 },
 "nbformat": 4,
 "nbformat_minor": 2
}
