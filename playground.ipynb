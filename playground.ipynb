{
 "cells": [
  {
   "cell_type": "markdown",
   "metadata": {},
   "source": [
    "# Playground Notebook\n",
    "## To try, validate and debug the code into the dashboard"
   ]
  },
  {
   "cell_type": "code",
   "execution_count": 1,
   "metadata": {},
   "outputs": [],
   "source": [
    "import pandas as pd\n",
    "from pandas.io.json import json_normalize\n",
    "import json\n",
    "import os"
   ]
  },
  {
   "cell_type": "markdown",
   "metadata": {},
   "source": [
    "## Stocks"
   ]
  },
  {
   "cell_type": "code",
   "execution_count": 2,
   "metadata": {},
   "outputs": [],
   "source": [
    "# Stock Names\n",
    "stock_names = {'GS':'Goldman Sachs Group Inc',\n",
    "               'LMT':'Lockheed Martin Corporation',\n",
    "               'TSLA':'TESLA',\n",
    "               'MSFT':'Microsoft Corporation',\n",
    "               'AAPL':'Apple Inc.',\n",
    "               'MCD':'McDonalds Corporation',\n",
    "               'NKE':'Nike Inc',\n",
    "               'PFE':'Pfizer Inc.',\n",
    "               'FB':'Facebook, Inc.',\n",
    "               'GOOGL':'Alphabet Inc.'\n",
    "              }"
   ]
  },
  {
   "cell_type": "code",
   "execution_count": 3,
   "metadata": {},
   "outputs": [],
   "source": [
    "# Name of timestamp to parse on the raw data file\n",
    "stamp_name = '4. timestamp'"
   ]
  },
  {
   "cell_type": "code",
   "execution_count": 4,
   "metadata": {},
   "outputs": [],
   "source": [
    "# Column names on the raw data file\n",
    "header_names = {'1. symbol':'sym',\n",
    "                '2. price':'price_str', \n",
    "                '3. volume':'vol'}"
   ]
  },
  {
   "cell_type": "code",
   "execution_count": 5,
   "metadata": {},
   "outputs": [],
   "source": [
    "# Directories and Files\n",
    "# Windows\n",
    "if os.name == 'nt':\n",
    "    home_dir = r'//userhome/users$/ksagilop/home/ZHAW/MAIN/04_Big_Data/'\n",
    "    stock_dir = r'spark-stock-market-streaming/collected_data/'\n",
    "    tweet_dir = r'spark-stock-market-streaming/collected_tweets_csv_raw/'\n",
    "# Linux\n",
    "if os.name == 'posix':\n",
    "    home_dir = os.path.expanduser(r'~/Documents/ZHAW/MAIN/04_Big_Data/30_Project/')\n",
    "    stock_dir = r'spark-stock-market-streaming/collected_data/'\n",
    "    tweet_dir = r'spark-stock-market-streaming/collected_tweets_csv_raw/'"
   ]
  },
  {
   "cell_type": "markdown",
   "metadata": {},
   "source": [
    "### Build Dataframe from json files"
   ]
  },
  {
   "cell_type": "code",
   "execution_count": 6,
   "metadata": {},
   "outputs": [],
   "source": [
    "def buildDF(base_dir, data_dir, json_col):\n",
    "    '''Construct a big dataframe by aggregating the individual json files\n",
    "    located at the proper data directory\n",
    "    Args:\n",
    "        base_dir(str), the home or base directory\n",
    "        data_dir(str), the directory containing the data\n",
    "        json_col(str), which column to normalize from the json file\n",
    "    return:\n",
    "        df(dataframe), full dataframe iaw json structure'''\n",
    "    folder = os.path.join(base_dir + data_dir)\n",
    "    files = os.listdir(folder)\n",
    "    count_files = 0\n",
    "    for file in files:\n",
    "        file_path = os.path.join(folder + file)\n",
    "        with open(file_path) as data_file:\n",
    "            data = json.load(data_file)\n",
    "            if count_files == 0:\n",
    "                df = json_normalize(data, json_col)\n",
    "                print('---- Base Dataframe ----')\n",
    "                print('Lenght of base dataframe is: ', len(df))\n",
    "                print(file_path)\n",
    "                print(df.head())\n",
    "                count_files += 1\n",
    "            else:\n",
    "                try:\n",
    "                    df_temp = json_normalize(data, json_col)\n",
    "                    df = df.append(df_temp, ignore_index=True)\n",
    "                    count_files += 1\n",
    "                except:\n",
    "                    print(file_path, 'normalize failed')\n",
    "                    continue\n",
    "    print('------------------------')\n",
    "    print('Total files read: ' + str(count_files))\n",
    "    print('---- %d Dataframes appended ----' %count_files)\n",
    "    print('Total lenght of dataframe is: ', len(df))\n",
    "    return df"
   ]
  },
  {
   "cell_type": "code",
   "execution_count": 7,
   "metadata": {},
   "outputs": [
    {
     "name": "stdout",
     "output_type": "stream",
     "text": [
      "---- Base Dataframe ----\n",
      "Lenght of base dataframe is:  10\n",
      "/home/hase/Documents/ZHAW/MAIN/04_Big_Data/30_Project/spark-stock-market-streaming/collected_data/20180614-152855.json\n",
      "  1. symbol  2. price 3. volume         4. timestamp\n",
      "0      TSLA  344.7800        --  2018-06-13 15:59:58\n",
      "1      AAPL  190.6650        --  2018-06-13 15:59:57\n",
      "2      MSFT  100.8900        --  2018-06-13 15:59:58\n",
      "3       MCD  166.6300        --  2018-06-13 15:59:59\n",
      "4       NKE   74.1200        --  2018-06-13 15:59:56\n",
      "/home/hase/Documents/ZHAW/MAIN/04_Big_Data/30_Project/spark-stock-market-streaming/collected_data/20180614-180447.json normalize failed\n",
      "/home/hase/Documents/ZHAW/MAIN/04_Big_Data/30_Project/spark-stock-market-streaming/collected_data/20180614-175150.json normalize failed\n",
      "/home/hase/Documents/ZHAW/MAIN/04_Big_Data/30_Project/spark-stock-market-streaming/collected_data/20180614-173053.json normalize failed\n",
      "------------------------\n",
      "Total files read: 3149\n",
      "---- 3149 Dataframes appended ----\n",
      "Total lenght of dataframe is:  31490\n"
     ]
    }
   ],
   "source": [
    "dfs = buildDF(home_dir, stock_dir, 'Stock Quotes')"
   ]
  },
  {
   "cell_type": "markdown",
   "metadata": {},
   "source": [
    "### Data Pre-processing"
   ]
  },
  {
   "cell_type": "code",
   "execution_count": 8,
   "metadata": {},
   "outputs": [],
   "source": [
    "def transDF(df, stamp, header, names):\n",
    "    '''Pre-processing of the data by doing some transformations\n",
    "    and aggregations to the dataframe created previously\n",
    "    Args:\n",
    "        df(dataframe): input dataframe\n",
    "        stamp(str): name column to parse for datetime\n",
    "        header(dict): a dictionary with {'original col name':'new col name'}\n",
    "        names(dict): a dictionary with the mapping {'stock abrev.':'stock full name'}\n",
    "    return:\n",
    "        df(dataframe): transformed dataframe'''\n",
    "    print('---- Input Dataframe ----')\n",
    "    print(df.head())\n",
    "    # Parse date and time\n",
    "    print('------------------------')\n",
    "    print('Parsing datetimes...')\n",
    "    df['stamp'] = pd.to_datetime(df[stamp])\n",
    "    df['date'] = df['stamp'].dt.date\n",
    "    #df['year'] = df['stamp'].dt.year\n",
    "    #df['month'] = df['stamp'].dt.strftime('%b')\n",
    "    #df['day'] = df['stamp'].dt.day\n",
    "    df['time'] = df['stamp'].dt.time\n",
    "    #print('Dropping auxiliary columns...')\n",
    "    df.drop([stamp], axis=1, inplace=True) # Not needed as 'stamp' is used for x-axis\n",
    "    # Set dataframe index\n",
    "    df.set_index(['date', 'time'], inplace=True)\n",
    "    #df.set_index(['year', 'month', 'day', 'time'], inplace=True)\n",
    "    print('Multi-index set from: ', stamp)\n",
    "    print('Renaming columns...')\n",
    "    df.rename(columns=header, inplace=True)\n",
    "    #print(df.head())\n",
    "    print('Change dtype for price...')\n",
    "    df['price'] = pd.to_numeric(df['price_str'])\n",
    "    df.drop(['price_str'], axis=1, inplace=True)\n",
    "    print('Drop duplicates...')\n",
    "    original_len = len(df)\n",
    "    df.drop_duplicates(inplace=True)\n",
    "    drop_len = len(df)\n",
    "    print('Dataframe reduced from %d to %d rows' %(original_len, drop_len))\n",
    "    df.sort_index(inplace=True)\n",
    "    print('Renaming rows...')\n",
    "    for key, value in names.items():\n",
    "        mask = df.sym == key\n",
    "        df.loc[mask, 'sym'] = value + ', ' + '(' + key + ')'\n",
    "    print('---- Modified Dataframe ----')\n",
    "    print(df.head())\n",
    "    print(df.dtypes)\n",
    "    return df"
   ]
  },
  {
   "cell_type": "code",
   "execution_count": 9,
   "metadata": {},
   "outputs": [
    {
     "name": "stdout",
     "output_type": "stream",
     "text": [
      "---- Input Dataframe ----\n",
      "  1. symbol  2. price 3. volume         4. timestamp\n",
      "0      TSLA  344.7800        --  2018-06-13 15:59:58\n",
      "1      AAPL  190.6650        --  2018-06-13 15:59:57\n",
      "2      MSFT  100.8900        --  2018-06-13 15:59:58\n",
      "3       MCD  166.6300        --  2018-06-13 15:59:59\n",
      "4       NKE   74.1200        --  2018-06-13 15:59:56\n",
      "------------------------\n",
      "Parsing datetimes...\n",
      "Multi-index set from:  4. timestamp\n",
      "Renaming columns...\n",
      "Change dtype for price...\n",
      "Drop duplicates...\n",
      "Dataframe reduced from 31490 to 22345 rows\n",
      "Renaming rows...\n",
      "---- Modified Dataframe ----\n",
      "                                                    sym vol  \\\n",
      "date       time                                               \n",
      "2018-06-05 15:59:46       Goldman Sachs Group Inc, (GS)  --   \n",
      "           15:59:53  Lockheed Martin Corporation, (LMT)  --   \n",
      "           15:59:55                       TESLA, (TSLA)  --   \n",
      "           15:59:55       Microsoft Corporation, (MSFT)  --   \n",
      "           15:59:57                  Apple Inc., (AAPL)  --   \n",
      "\n",
      "                                  stamp   price  \n",
      "date       time                                  \n",
      "2018-06-05 15:59:46 2018-06-05 15:59:46  228.30  \n",
      "           15:59:53 2018-06-05 15:59:53  320.13  \n",
      "           15:59:55 2018-06-05 15:59:55  290.94  \n",
      "           15:59:55 2018-06-05 15:59:55  102.21  \n",
      "           15:59:57 2018-06-05 15:59:57  193.36  \n",
      "sym              object\n",
      "vol              object\n",
      "stamp    datetime64[ns]\n",
      "price           float64\n",
      "dtype: object\n"
     ]
    }
   ],
   "source": [
    "dfss = transDF(dfs, stamp_name, header_names, stock_names)"
   ]
  },
  {
   "cell_type": "code",
   "execution_count": 10,
   "metadata": {},
   "outputs": [
    {
     "data": {
      "text/html": [
       "<div>\n",
       "<style>\n",
       "    .dataframe thead tr:only-child th {\n",
       "        text-align: right;\n",
       "    }\n",
       "\n",
       "    .dataframe thead th {\n",
       "        text-align: left;\n",
       "    }\n",
       "\n",
       "    .dataframe tbody tr th {\n",
       "        vertical-align: top;\n",
       "    }\n",
       "</style>\n",
       "<table border=\"1\" class=\"dataframe\">\n",
       "  <thead>\n",
       "    <tr style=\"text-align: right;\">\n",
       "      <th></th>\n",
       "      <th></th>\n",
       "      <th>sym</th>\n",
       "      <th>vol</th>\n",
       "      <th>stamp</th>\n",
       "      <th>price</th>\n",
       "    </tr>\n",
       "    <tr>\n",
       "      <th>date</th>\n",
       "      <th>time</th>\n",
       "      <th></th>\n",
       "      <th></th>\n",
       "      <th></th>\n",
       "      <th></th>\n",
       "    </tr>\n",
       "  </thead>\n",
       "  <tbody>\n",
       "    <tr>\n",
       "      <th rowspan=\"5\" valign=\"top\">2018-06-05</th>\n",
       "      <th>15:59:46</th>\n",
       "      <td>Goldman Sachs Group Inc, (GS)</td>\n",
       "      <td>--</td>\n",
       "      <td>2018-06-05 15:59:46</td>\n",
       "      <td>228.30</td>\n",
       "    </tr>\n",
       "    <tr>\n",
       "      <th>15:59:53</th>\n",
       "      <td>Lockheed Martin Corporation, (LMT)</td>\n",
       "      <td>--</td>\n",
       "      <td>2018-06-05 15:59:53</td>\n",
       "      <td>320.13</td>\n",
       "    </tr>\n",
       "    <tr>\n",
       "      <th>15:59:55</th>\n",
       "      <td>TESLA, (TSLA)</td>\n",
       "      <td>--</td>\n",
       "      <td>2018-06-05 15:59:55</td>\n",
       "      <td>290.94</td>\n",
       "    </tr>\n",
       "    <tr>\n",
       "      <th>15:59:55</th>\n",
       "      <td>Microsoft Corporation, (MSFT)</td>\n",
       "      <td>--</td>\n",
       "      <td>2018-06-05 15:59:55</td>\n",
       "      <td>102.21</td>\n",
       "    </tr>\n",
       "    <tr>\n",
       "      <th>15:59:57</th>\n",
       "      <td>Apple Inc., (AAPL)</td>\n",
       "      <td>--</td>\n",
       "      <td>2018-06-05 15:59:57</td>\n",
       "      <td>193.36</td>\n",
       "    </tr>\n",
       "  </tbody>\n",
       "</table>\n",
       "</div>"
      ],
      "text/plain": [
       "                                                    sym vol  \\\n",
       "date       time                                               \n",
       "2018-06-05 15:59:46       Goldman Sachs Group Inc, (GS)  --   \n",
       "           15:59:53  Lockheed Martin Corporation, (LMT)  --   \n",
       "           15:59:55                       TESLA, (TSLA)  --   \n",
       "           15:59:55       Microsoft Corporation, (MSFT)  --   \n",
       "           15:59:57                  Apple Inc., (AAPL)  --   \n",
       "\n",
       "                                  stamp   price  \n",
       "date       time                                  \n",
       "2018-06-05 15:59:46 2018-06-05 15:59:46  228.30  \n",
       "           15:59:53 2018-06-05 15:59:53  320.13  \n",
       "           15:59:55 2018-06-05 15:59:55  290.94  \n",
       "           15:59:55 2018-06-05 15:59:55  102.21  \n",
       "           15:59:57 2018-06-05 15:59:57  193.36  "
      ]
     },
     "execution_count": 10,
     "metadata": {},
     "output_type": "execute_result"
    }
   ],
   "source": [
    "dfss.head()"
   ]
  },
  {
   "cell_type": "code",
   "execution_count": null,
   "metadata": {},
   "outputs": [],
   "source": [
    "dfss.price.mean()"
   ]
  },
  {
   "cell_type": "code",
   "execution_count": null,
   "metadata": {},
   "outputs": [],
   "source": [
    "s_hr_min = dfss.index.get_level_values('time').min()\n",
    "s_hr_max = dfss.index.get_level_values('time').max()"
   ]
  },
  {
   "cell_type": "code",
   "execution_count": null,
   "metadata": {},
   "outputs": [],
   "source": [
    "s_hr_min, s_hr_max"
   ]
  },
  {
   "cell_type": "markdown",
   "metadata": {},
   "source": [
    "## Tweets"
   ]
  },
  {
   "cell_type": "code",
   "execution_count": 11,
   "metadata": {},
   "outputs": [],
   "source": [
    "hashtag_map = {'nike':'Nike Inc, (NKE)', \n",
    "               'facebook':'Facebook, Inc., (FB)', \n",
    "               'apple':'Apple Inc., (AAPL)', \n",
    "               'microsoft':'Microsoft Corporation, (MSFT)', \n",
    "               'mcdonalds':'McDonalds Corporation, (MCD)', \n",
    "               'tesla':'TESLA, (TSLA)',\n",
    "               'n/a':'NA', \n",
    "               'goldmansachs':'Goldman Sachs Group Inc, (GS)', \n",
    "               'alphabet':'Alphabet Inc., (GOOGL)', \n",
    "               'pfizer':'Pfizer Inc., (PFE)'}"
   ]
  },
  {
   "cell_type": "code",
   "execution_count": 12,
   "metadata": {},
   "outputs": [],
   "source": [
    "def buildDFbis(base_dir, data_dir):\n",
    "    '''Construct a big dataframe by aggregating the individual csv files\n",
    "    located at the proper data directory\n",
    "    Args:\n",
    "        base_dir(str), the home or base directory\n",
    "        data_dir(str), the directory containing the data\n",
    "    return:\n",
    "        df(dataframe), full dataframe iaw csv structure'''\n",
    "    folder = os.path.join(base_dir + data_dir)\n",
    "    files = os.listdir(folder)\n",
    "    file_path = os.path.join(folder + files[0])\n",
    "    # Dataframe\n",
    "    df = pd.read_csv(file_path,\n",
    "                     sep=';',\n",
    "                     parse_dates={'stamp':['timestamp']},\n",
    "                     keep_date_col=False)\n",
    "    print('Dataframe created from: ', file_path)\n",
    "    print('with length: ', len(df))\n",
    "    print('--- Dataframe processing ---')\n",
    "    print('Creating date and time columns from timestamp')\n",
    "    df['date'] = df['stamp'].dt.date\n",
    "    df['time'] = df['stamp'].dt.time\n",
    "    print('Setting date and time as Index...')\n",
    "    df.set_index(['date', 'time'], inplace=True)\n",
    "    return df"
   ]
  },
  {
   "cell_type": "code",
   "execution_count": 13,
   "metadata": {},
   "outputs": [
    {
     "name": "stdout",
     "output_type": "stream",
     "text": [
      "Dataframe created from:  /home/hase/Documents/ZHAW/MAIN/04_Big_Data/30_Project/spark-stock-market-streaming/collected_tweets_csv_raw/tweets.csv\n",
      "with length:  171273\n",
      "--- Dataframe processing ---\n",
      "Creating date and time columns from timestamp\n",
      "Setting date and time as Index...\n"
     ]
    }
   ],
   "source": [
    "dft = buildDFbis(home_dir, tweet_dir)"
   ]
  },
  {
   "cell_type": "code",
   "execution_count": 14,
   "metadata": {},
   "outputs": [
    {
     "data": {
      "text/html": [
       "<div>\n",
       "<style>\n",
       "    .dataframe thead tr:only-child th {\n",
       "        text-align: right;\n",
       "    }\n",
       "\n",
       "    .dataframe thead th {\n",
       "        text-align: left;\n",
       "    }\n",
       "\n",
       "    .dataframe tbody tr th {\n",
       "        vertical-align: top;\n",
       "    }\n",
       "</style>\n",
       "<table border=\"1\" class=\"dataframe\">\n",
       "  <thead>\n",
       "    <tr style=\"text-align: right;\">\n",
       "      <th></th>\n",
       "      <th></th>\n",
       "      <th>stamp</th>\n",
       "      <th>hashtag</th>\n",
       "      <th>cnt</th>\n",
       "      <th>followers_count</th>\n",
       "      <th>log_followers_count</th>\n",
       "    </tr>\n",
       "    <tr>\n",
       "      <th>date</th>\n",
       "      <th>time</th>\n",
       "      <th></th>\n",
       "      <th></th>\n",
       "      <th></th>\n",
       "      <th></th>\n",
       "      <th></th>\n",
       "    </tr>\n",
       "  </thead>\n",
       "  <tbody>\n",
       "    <tr>\n",
       "      <th rowspan=\"5\" valign=\"top\">2018-06-09</th>\n",
       "      <th>03:10:23</th>\n",
       "      <td>2018-06-09 03:10:23</td>\n",
       "      <td>apple</td>\n",
       "      <td>1</td>\n",
       "      <td>287</td>\n",
       "      <td>5.659482</td>\n",
       "    </tr>\n",
       "    <tr>\n",
       "      <th>03:10:28</th>\n",
       "      <td>2018-06-09 03:10:28</td>\n",
       "      <td>apple</td>\n",
       "      <td>1</td>\n",
       "      <td>535</td>\n",
       "      <td>6.282267</td>\n",
       "    </tr>\n",
       "    <tr>\n",
       "      <th>03:10:30</th>\n",
       "      <td>2018-06-09 03:10:30</td>\n",
       "      <td>nike</td>\n",
       "      <td>1</td>\n",
       "      <td>66</td>\n",
       "      <td>4.189655</td>\n",
       "    </tr>\n",
       "    <tr>\n",
       "      <th>03:10:32</th>\n",
       "      <td>2018-06-09 03:10:32</td>\n",
       "      <td>apple</td>\n",
       "      <td>1</td>\n",
       "      <td>39384</td>\n",
       "      <td>10.581115</td>\n",
       "    </tr>\n",
       "    <tr>\n",
       "      <th>03:10:33</th>\n",
       "      <td>2018-06-09 03:10:33</td>\n",
       "      <td>facebook</td>\n",
       "      <td>1</td>\n",
       "      <td>11822</td>\n",
       "      <td>9.377717</td>\n",
       "    </tr>\n",
       "  </tbody>\n",
       "</table>\n",
       "</div>"
      ],
      "text/plain": [
       "                                  stamp   hashtag  cnt  followers_count  \\\n",
       "date       time                                                           \n",
       "2018-06-09 03:10:23 2018-06-09 03:10:23     apple    1              287   \n",
       "           03:10:28 2018-06-09 03:10:28     apple    1              535   \n",
       "           03:10:30 2018-06-09 03:10:30      nike    1               66   \n",
       "           03:10:32 2018-06-09 03:10:32     apple    1            39384   \n",
       "           03:10:33 2018-06-09 03:10:33  facebook    1            11822   \n",
       "\n",
       "                     log_followers_count  \n",
       "date       time                           \n",
       "2018-06-09 03:10:23             5.659482  \n",
       "           03:10:28             6.282267  \n",
       "           03:10:30             4.189655  \n",
       "           03:10:32            10.581115  \n",
       "           03:10:33             9.377717  "
      ]
     },
     "execution_count": 14,
     "metadata": {},
     "output_type": "execute_result"
    }
   ],
   "source": [
    "dft.head()"
   ]
  },
  {
   "cell_type": "code",
   "execution_count": null,
   "metadata": {},
   "outputs": [],
   "source": [
    "# Slice tweet dataframe to an equal stock timestamp\n",
    "stock_hr_min = dfss.index.get_level_values('time').min()\n",
    "stock_hr_max = dfss.index.get_level_values('time').max()\n",
    "tweet_hr_min = dft.index.get_level_values('time').min()\n",
    "tweet_hr_max = dft.index.get_level_values('time').max()\n",
    "mask_hr_min = dft.index.get_level_values('time') > stock_hr_min\n",
    "dft = dft.loc[mask_hr_min]\n",
    "mask_hr_max = dft.index.get_level_values('time') < stock_hr_max\n",
    "dft = dft.loc[mask_hr_max]"
   ]
  },
  {
   "cell_type": "code",
   "execution_count": null,
   "metadata": {},
   "outputs": [],
   "source": [
    "dft.head()"
   ]
  },
  {
   "cell_type": "code",
   "execution_count": null,
   "metadata": {},
   "outputs": [],
   "source": [
    "dft['stamp_round'] = dft.stamp.dt.round('1Min')"
   ]
  },
  {
   "cell_type": "code",
   "execution_count": null,
   "metadata": {},
   "outputs": [],
   "source": [
    "c = dft.groupby(['stamp_round'])['log_followers_count'].sum()"
   ]
  },
  {
   "cell_type": "code",
   "execution_count": null,
   "metadata": {},
   "outputs": [],
   "source": [
    "c.head()"
   ]
  },
  {
   "cell_type": "code",
   "execution_count": null,
   "metadata": {},
   "outputs": [],
   "source": [
    "c.index"
   ]
  },
  {
   "cell_type": "code",
   "execution_count": null,
   "metadata": {},
   "outputs": [],
   "source": [
    "c"
   ]
  },
  {
   "cell_type": "code",
   "execution_count": null,
   "metadata": {},
   "outputs": [],
   "source": [
    "dft.head()"
   ]
  },
  {
   "cell_type": "code",
   "execution_count": null,
   "metadata": {},
   "outputs": [],
   "source": [
    "dft.groupby(['stamp', 'time_min'])['log_followers_count'].sum()"
   ]
  },
  {
   "cell_type": "code",
   "execution_count": 16,
   "metadata": {},
   "outputs": [],
   "source": [
    "Y_tweet = dft.groupby(['stamp'])['log_followers_count'].sum()"
   ]
  },
  {
   "cell_type": "code",
   "execution_count": 18,
   "metadata": {},
   "outputs": [
    {
     "data": {
      "text/plain": [
       "432.08252055888306"
      ]
     },
     "execution_count": 18,
     "metadata": {},
     "output_type": "execute_result"
    }
   ],
   "source": [
    "Y_tweet.max()"
   ]
  },
  {
   "cell_type": "code",
   "execution_count": 26,
   "metadata": {},
   "outputs": [
    {
     "data": {
      "text/plain": [
       "Timestamp('2018-06-13 01:07:41')"
      ]
     },
     "execution_count": 26,
     "metadata": {},
     "output_type": "execute_result"
    }
   ],
   "source": [
    "Y_tweet.idxmax()"
   ]
  },
  {
   "cell_type": "code",
   "execution_count": 27,
   "metadata": {},
   "outputs": [
    {
     "data": {
      "text/html": [
       "<div>\n",
       "<style>\n",
       "    .dataframe thead tr:only-child th {\n",
       "        text-align: right;\n",
       "    }\n",
       "\n",
       "    .dataframe thead th {\n",
       "        text-align: left;\n",
       "    }\n",
       "\n",
       "    .dataframe tbody tr th {\n",
       "        vertical-align: top;\n",
       "    }\n",
       "</style>\n",
       "<table border=\"1\" class=\"dataframe\">\n",
       "  <thead>\n",
       "    <tr style=\"text-align: right;\">\n",
       "      <th></th>\n",
       "      <th></th>\n",
       "      <th>sym</th>\n",
       "      <th>vol</th>\n",
       "      <th>stamp</th>\n",
       "      <th>price</th>\n",
       "    </tr>\n",
       "    <tr>\n",
       "      <th>date</th>\n",
       "      <th>time</th>\n",
       "      <th></th>\n",
       "      <th></th>\n",
       "      <th></th>\n",
       "      <th></th>\n",
       "    </tr>\n",
       "  </thead>\n",
       "  <tbody>\n",
       "    <tr>\n",
       "      <th rowspan=\"5\" valign=\"top\">2018-06-05</th>\n",
       "      <th>15:59:46</th>\n",
       "      <td>Goldman Sachs Group Inc, (GS)</td>\n",
       "      <td>--</td>\n",
       "      <td>2018-06-05 15:59:46</td>\n",
       "      <td>228.30</td>\n",
       "    </tr>\n",
       "    <tr>\n",
       "      <th>15:59:53</th>\n",
       "      <td>Lockheed Martin Corporation, (LMT)</td>\n",
       "      <td>--</td>\n",
       "      <td>2018-06-05 15:59:53</td>\n",
       "      <td>320.13</td>\n",
       "    </tr>\n",
       "    <tr>\n",
       "      <th>15:59:55</th>\n",
       "      <td>TESLA, (TSLA)</td>\n",
       "      <td>--</td>\n",
       "      <td>2018-06-05 15:59:55</td>\n",
       "      <td>290.94</td>\n",
       "    </tr>\n",
       "    <tr>\n",
       "      <th>15:59:55</th>\n",
       "      <td>Microsoft Corporation, (MSFT)</td>\n",
       "      <td>--</td>\n",
       "      <td>2018-06-05 15:59:55</td>\n",
       "      <td>102.21</td>\n",
       "    </tr>\n",
       "    <tr>\n",
       "      <th>15:59:57</th>\n",
       "      <td>Apple Inc., (AAPL)</td>\n",
       "      <td>--</td>\n",
       "      <td>2018-06-05 15:59:57</td>\n",
       "      <td>193.36</td>\n",
       "    </tr>\n",
       "  </tbody>\n",
       "</table>\n",
       "</div>"
      ],
      "text/plain": [
       "                                                    sym vol  \\\n",
       "date       time                                               \n",
       "2018-06-05 15:59:46       Goldman Sachs Group Inc, (GS)  --   \n",
       "           15:59:53  Lockheed Martin Corporation, (LMT)  --   \n",
       "           15:59:55                       TESLA, (TSLA)  --   \n",
       "           15:59:55       Microsoft Corporation, (MSFT)  --   \n",
       "           15:59:57                  Apple Inc., (AAPL)  --   \n",
       "\n",
       "                                  stamp   price  \n",
       "date       time                                  \n",
       "2018-06-05 15:59:46 2018-06-05 15:59:46  228.30  \n",
       "           15:59:53 2018-06-05 15:59:53  320.13  \n",
       "           15:59:55 2018-06-05 15:59:55  290.94  \n",
       "           15:59:55 2018-06-05 15:59:55  102.21  \n",
       "           15:59:57 2018-06-05 15:59:57  193.36  "
      ]
     },
     "execution_count": 27,
     "metadata": {},
     "output_type": "execute_result"
    }
   ],
   "source": [
    "dfss.head()"
   ]
  },
  {
   "cell_type": "code",
   "execution_count": 28,
   "metadata": {},
   "outputs": [
    {
     "data": {
      "text/plain": [
       "1165.7"
      ]
     },
     "execution_count": 28,
     "metadata": {},
     "output_type": "execute_result"
    }
   ],
   "source": [
    "dfss.price.max()"
   ]
  },
  {
   "cell_type": "code",
   "execution_count": 33,
   "metadata": {},
   "outputs": [
    {
     "data": {
      "text/plain": [
       "date        time    \n",
       "2018-06-14  13:31:36   2018-06-14 13:31:36\n",
       "            13:32:31   2018-06-14 13:32:31\n",
       "Name: stamp, dtype: datetime64[ns]"
      ]
     },
     "execution_count": 33,
     "metadata": {},
     "output_type": "execute_result"
    }
   ],
   "source": [
    "dfss.stamp[dfss.price == dfss.price.max()]"
   ]
  },
  {
   "cell_type": "code",
   "execution_count": 34,
   "metadata": {},
   "outputs": [
    {
     "data": {
      "text/html": [
       "<div>\n",
       "<style>\n",
       "    .dataframe thead tr:only-child th {\n",
       "        text-align: right;\n",
       "    }\n",
       "\n",
       "    .dataframe thead th {\n",
       "        text-align: left;\n",
       "    }\n",
       "\n",
       "    .dataframe tbody tr th {\n",
       "        vertical-align: top;\n",
       "    }\n",
       "</style>\n",
       "<table border=\"1\" class=\"dataframe\">\n",
       "  <thead>\n",
       "    <tr style=\"text-align: right;\">\n",
       "      <th></th>\n",
       "      <th></th>\n",
       "      <th>sym</th>\n",
       "      <th>vol</th>\n",
       "      <th>stamp</th>\n",
       "      <th>price</th>\n",
       "    </tr>\n",
       "    <tr>\n",
       "      <th>date</th>\n",
       "      <th>time</th>\n",
       "      <th></th>\n",
       "      <th></th>\n",
       "      <th></th>\n",
       "      <th></th>\n",
       "    </tr>\n",
       "  </thead>\n",
       "  <tbody>\n",
       "    <tr>\n",
       "      <th rowspan=\"4\" valign=\"top\">2018-06-14</th>\n",
       "      <th>13:31:36</th>\n",
       "      <td>TESLA, (TSLA)</td>\n",
       "      <td>7337523</td>\n",
       "      <td>2018-06-14 13:31:36</td>\n",
       "      <td>354.565</td>\n",
       "    </tr>\n",
       "    <tr>\n",
       "      <th>13:31:36</th>\n",
       "      <td>Apple Inc., (AAPL)</td>\n",
       "      <td>11768908</td>\n",
       "      <td>2018-06-14 13:31:36</td>\n",
       "      <td>191.090</td>\n",
       "    </tr>\n",
       "    <tr>\n",
       "      <th>13:31:36</th>\n",
       "      <td>Microsoft Corporation, (MSFT)</td>\n",
       "      <td>12972808</td>\n",
       "      <td>2018-06-14 13:31:36</td>\n",
       "      <td>101.620</td>\n",
       "    </tr>\n",
       "    <tr>\n",
       "      <th>13:31:36</th>\n",
       "      <td>Alphabet Inc., (GOOGL)</td>\n",
       "      <td>1000038</td>\n",
       "      <td>2018-06-14 13:31:36</td>\n",
       "      <td>1165.700</td>\n",
       "    </tr>\n",
       "  </tbody>\n",
       "</table>\n",
       "</div>"
      ],
      "text/plain": [
       "                                               sym       vol  \\\n",
       "date       time                                                \n",
       "2018-06-14 13:31:36                  TESLA, (TSLA)   7337523   \n",
       "           13:31:36             Apple Inc., (AAPL)  11768908   \n",
       "           13:31:36  Microsoft Corporation, (MSFT)  12972808   \n",
       "           13:31:36         Alphabet Inc., (GOOGL)   1000038   \n",
       "\n",
       "                                  stamp     price  \n",
       "date       time                                    \n",
       "2018-06-14 13:31:36 2018-06-14 13:31:36   354.565  \n",
       "           13:31:36 2018-06-14 13:31:36   191.090  \n",
       "           13:31:36 2018-06-14 13:31:36   101.620  \n",
       "           13:31:36 2018-06-14 13:31:36  1165.700  "
      ]
     },
     "execution_count": 34,
     "metadata": {},
     "output_type": "execute_result"
    }
   ],
   "source": [
    "dfss[dfss['stamp'] == '2018-06-14 13:31:36']"
   ]
  },
  {
   "cell_type": "code",
   "execution_count": 35,
   "metadata": {},
   "outputs": [
    {
     "data": {
      "text/html": [
       "<div>\n",
       "<style>\n",
       "    .dataframe thead tr:only-child th {\n",
       "        text-align: right;\n",
       "    }\n",
       "\n",
       "    .dataframe thead th {\n",
       "        text-align: left;\n",
       "    }\n",
       "\n",
       "    .dataframe tbody tr th {\n",
       "        vertical-align: top;\n",
       "    }\n",
       "</style>\n",
       "<table border=\"1\" class=\"dataframe\">\n",
       "  <thead>\n",
       "    <tr style=\"text-align: right;\">\n",
       "      <th></th>\n",
       "      <th></th>\n",
       "      <th>sym</th>\n",
       "      <th>vol</th>\n",
       "      <th>stamp</th>\n",
       "      <th>price</th>\n",
       "    </tr>\n",
       "    <tr>\n",
       "      <th>date</th>\n",
       "      <th>time</th>\n",
       "      <th></th>\n",
       "      <th></th>\n",
       "      <th></th>\n",
       "      <th></th>\n",
       "    </tr>\n",
       "  </thead>\n",
       "  <tbody>\n",
       "    <tr>\n",
       "      <th>2018-06-14</th>\n",
       "      <th>13:32:31</th>\n",
       "      <td>Alphabet Inc., (GOOGL)</td>\n",
       "      <td>1001575</td>\n",
       "      <td>2018-06-14 13:32:31</td>\n",
       "      <td>1165.7</td>\n",
       "    </tr>\n",
       "  </tbody>\n",
       "</table>\n",
       "</div>"
      ],
      "text/plain": [
       "                                        sym      vol               stamp  \\\n",
       "date       time                                                            \n",
       "2018-06-14 13:32:31  Alphabet Inc., (GOOGL)  1001575 2018-06-14 13:32:31   \n",
       "\n",
       "                      price  \n",
       "date       time              \n",
       "2018-06-14 13:32:31  1165.7  "
      ]
     },
     "execution_count": 35,
     "metadata": {},
     "output_type": "execute_result"
    }
   ],
   "source": [
    "dfss[dfss['stamp'] == '2018-06-14 13:32:31']"
   ]
  },
  {
   "cell_type": "code",
   "execution_count": null,
   "metadata": {},
   "outputs": [],
   "source": []
  }
 ],
 "metadata": {
  "kernelspec": {
   "display_name": "Python [default]",
   "language": "python",
   "name": "python3"
  },
  "language_info": {
   "codemirror_mode": {
    "name": "ipython",
    "version": 3
   },
   "file_extension": ".py",
   "mimetype": "text/x-python",
   "name": "python",
   "nbconvert_exporter": "python",
   "pygments_lexer": "ipython3",
   "version": "3.6.4"
  }
 },
 "nbformat": 4,
 "nbformat_minor": 2
}
