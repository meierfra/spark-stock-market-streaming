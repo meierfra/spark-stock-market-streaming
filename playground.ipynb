{
 "cells": [
  {
   "cell_type": "markdown",
   "metadata": {},
   "source": [
    "# Playground Notebook\n",
    "## To try, validate and debug the code into the dashboard"
   ]
  },
  {
   "cell_type": "code",
   "execution_count": 259,
   "metadata": {},
   "outputs": [],
   "source": [
    "import pandas as pd\n",
    "from pandas.io.json import json_normalize\n",
    "import json\n",
    "import os"
   ]
  },
  {
   "cell_type": "markdown",
   "metadata": {},
   "source": [
    "## Stocks"
   ]
  },
  {
   "cell_type": "code",
   "execution_count": 260,
   "metadata": {},
   "outputs": [],
   "source": [
    "# Stock Names\n",
    "stock_names = {'GS':'Goldman Sachs Group Inc',\n",
    "               'LMT':'Lockheed Martin Corporation',\n",
    "               'TSLA':'TESLA',\n",
    "               'MSFT':'Microsoft Corporation',\n",
    "               'AAPL':'Apple Inc.',\n",
    "               'MCD':'McDonalds Corporation',\n",
    "               'NKE':'Nike Inc',\n",
    "               'PFE':'Pfizer Inc.',\n",
    "               'FB':'Facebook, Inc.',\n",
    "               'GOOGL':'Alphabet Inc.'\n",
    "              }"
   ]
  },
  {
   "cell_type": "code",
   "execution_count": 261,
   "metadata": {},
   "outputs": [],
   "source": [
    "# Name of timestamp to parse on the raw data file\n",
    "stamp_name = '4. timestamp'"
   ]
  },
  {
   "cell_type": "code",
   "execution_count": 262,
   "metadata": {},
   "outputs": [],
   "source": [
    "# Column names on the raw data file\n",
    "header_names = {'1. symbol':'sym',\n",
    "                '2. price':'$', \n",
    "                '3. volume':'vol'}"
   ]
  },
  {
   "cell_type": "code",
   "execution_count": 263,
   "metadata": {},
   "outputs": [],
   "source": [
    "# Directories and Files\n",
    "# Windows\n",
    "if os.name == 'nt':\n",
    "    home_dir = r'//userhome/users$/ksagilop/home/ZHAW/MAIN/04_Big_Data/'\n",
    "    stock_dir = r'spark-stock-market-streaming/collected_data/'\n",
    "    tweet_dir = r'spark-stock-market-streaming/collected_tweets_csv_raw/'\n",
    "# Linux\n",
    "if os.name == 'posix':\n",
    "    home_dir = os.path.expanduser(r'~/Documents/ZHAW/MAIN/04_Big_Data/30_Project/')\n",
    "    stock_dir = r'spark-stock-market-streaming/collected_data/'\n",
    "    tweet_dir = r'spark-stock-market-streaming/collected_tweets_csv_raw/'"
   ]
  },
  {
   "cell_type": "markdown",
   "metadata": {},
   "source": [
    "### Build Dataframe from json files"
   ]
  },
  {
   "cell_type": "code",
   "execution_count": 264,
   "metadata": {},
   "outputs": [],
   "source": [
    "def buildDF(base_dir, data_dir, json_col):\n",
    "    '''Construct a big dataframe by aggregating the individual json files\n",
    "    located at the proper data directory\n",
    "    Args:\n",
    "        base_dir(str), the home or base directory\n",
    "        data_dir(str), the directory containing the data\n",
    "        json_col(str), which column to normalize from the json file\n",
    "    return:\n",
    "        df(dataframe), full dataframe iaw json structure'''\n",
    "    folder = os.path.join(base_dir + data_dir)\n",
    "    files = os.listdir(folder)\n",
    "    count_files = 0\n",
    "    for file in files:\n",
    "        file_path = os.path.join(folder + file)\n",
    "        with open(file_path) as data_file:\n",
    "            data = json.load(data_file)\n",
    "            if count_files == 0:\n",
    "                df = json_normalize(data, json_col)\n",
    "                print('---- Base Dataframe ----')\n",
    "                print('Lenght of base dataframe is: ', len(df))\n",
    "                print(file_path)\n",
    "                print(df.head())\n",
    "                count_files += 1\n",
    "            else:\n",
    "                df_temp = json_normalize(data, json_col)\n",
    "                df = df.append(df_temp, ignore_index=True)\n",
    "                count_files += 1\n",
    "    print('------------------------')\n",
    "    print('Total files read: ' + str(count_files))\n",
    "    print('---- %d Dataframes appended ----' %count_files)\n",
    "    print('Total lenght of dataframe is: ', len(df))\n",
    "    return df"
   ]
  },
  {
   "cell_type": "code",
   "execution_count": 265,
   "metadata": {},
   "outputs": [
    {
     "name": "stdout",
     "output_type": "stream",
     "text": [
      "---- Base Dataframe ----\n",
      "Lenght of base dataframe is:  10\n",
      "/home/hase/Documents/ZHAW/MAIN/04_Big_Data/30_Project/spark-stock-market-streaming/collected_data/20180611-221636.json\n",
      "  1. symbol  2. price 3. volume         4. timestamp\n",
      "0      TSLA  332.0500  12997109  2018-06-11 16:00:00\n",
      "1      AAPL  191.1600  17974245  2018-06-11 16:09:39\n",
      "2      MSFT  101.0500  22795861  2018-06-11 16:11:44\n",
      "3       MCD  166.4400   3214869  2018-06-11 16:00:43\n",
      "4       NKE   74.5700   4676668  2018-06-11 16:02:14\n",
      "------------------------\n",
      "Total files read: 2123\n",
      "---- 2123 Dataframes appended ----\n",
      "Total lenght of dataframe is:  21230\n"
     ]
    }
   ],
   "source": [
    "dfs = buildDF(home_dir, stock_dir, 'Stock Quotes')"
   ]
  },
  {
   "cell_type": "markdown",
   "metadata": {},
   "source": [
    "### Data Pre-processing"
   ]
  },
  {
   "cell_type": "code",
   "execution_count": 266,
   "metadata": {},
   "outputs": [],
   "source": [
    "def transDF(df, stamp, header, names):\n",
    "    '''Pre-processing of the data by doing some transformations\n",
    "    and aggregations to the dataframe created previously\n",
    "    Args:\n",
    "        df(dataframe): input dataframe\n",
    "        stamp(str): name column to parse for datetime\n",
    "        header(dict): a dictionary with {'original col name':'new col name'}\n",
    "        names(dict): a dictionary with the mapping {'stock abrev.':'stock full name'}\n",
    "    return:\n",
    "        df(dataframe): transformed dataframe'''\n",
    "    print('---- Input Dataframe ----')\n",
    "    print(df.head())\n",
    "    # Parse date and time\n",
    "    print('------------------------')\n",
    "    print('Parsing datetimes...')\n",
    "    df['stamp'] = pd.to_datetime(df[stamp])\n",
    "    df['date'] = df['stamp'].dt.date\n",
    "    #df['year'] = df['stamp'].dt.year\n",
    "    #df['month'] = df['stamp'].dt.strftime('%b')\n",
    "    #df['day'] = df['stamp'].dt.day\n",
    "    df['time'] = df['stamp'].dt.time\n",
    "    #print('Dropping auxiliary columns...')\n",
    "    #df.drop([stamp], axis=1, inplace=True) # Not needed as 'stamp' is used for x-axis\n",
    "    # Set dataframe index\n",
    "    df.set_index(['date', 'time'], inplace=True)\n",
    "    #df.set_index(['year', 'month', 'day', 'time'], inplace=True)\n",
    "    print('Multi-index set from: ', stamp)\n",
    "    print('Renaming columns...')\n",
    "    df.rename(columns=header, inplace=True)\n",
    "    print('Drop duplicates...')\n",
    "    original_len = len(df)\n",
    "    df.drop_duplicates(inplace=True)\n",
    "    drop_len = len(df)\n",
    "    print('Dataframe reduced from %d to %d rows' %(original_len, drop_len))\n",
    "    df.sort_index(inplace=True)\n",
    "    print('Renaming rows...')\n",
    "    for key, value in names.items():\n",
    "        mask = df.sym == key\n",
    "        df.loc[mask, 'sym'] = value + ', ' + '(' + key + ')'\n",
    "    print('---- Modified Dataframe ----')\n",
    "    print(df.head())\n",
    "    return df"
   ]
  },
  {
   "cell_type": "code",
   "execution_count": 267,
   "metadata": {},
   "outputs": [
    {
     "name": "stdout",
     "output_type": "stream",
     "text": [
      "---- Input Dataframe ----\n",
      "  1. symbol  2. price 3. volume         4. timestamp\n",
      "0      TSLA  332.0500  12997109  2018-06-11 16:00:00\n",
      "1      AAPL  191.1600  17974245  2018-06-11 16:09:39\n",
      "2      MSFT  101.0500  22795861  2018-06-11 16:11:44\n",
      "3       MCD  166.4400   3214869  2018-06-11 16:00:43\n",
      "4       NKE   74.5700   4676668  2018-06-11 16:02:14\n",
      "------------------------\n",
      "Parsing datetimes...\n",
      "Multi-index set from:  4. timestamp\n",
      "Renaming columns...\n",
      "Drop duplicates...\n",
      "Dataframe reduced from 21230 to 15067 rows\n",
      "Renaming rows...\n",
      "---- Modified Dataframe ----\n",
      "                                                    sym         $ vol  \\\n",
      "date       time                                                         \n",
      "2018-06-05 15:59:46       Goldman Sachs Group Inc, (GS)  228.3000  --   \n",
      "           15:59:53  Lockheed Martin Corporation, (LMT)  320.1300  --   \n",
      "           15:59:55                       TESLA, (TSLA)  290.9400  --   \n",
      "           15:59:55       Microsoft Corporation, (MSFT)  102.2100  --   \n",
      "           15:59:57                  Apple Inc., (AAPL)  193.3600  --   \n",
      "\n",
      "                            4. timestamp               stamp  \n",
      "date       time                                               \n",
      "2018-06-05 15:59:46  2018-06-05 15:59:46 2018-06-05 15:59:46  \n",
      "           15:59:53  2018-06-05 15:59:53 2018-06-05 15:59:53  \n",
      "           15:59:55  2018-06-05 15:59:55 2018-06-05 15:59:55  \n",
      "           15:59:55  2018-06-05 15:59:55 2018-06-05 15:59:55  \n",
      "           15:59:57  2018-06-05 15:59:57 2018-06-05 15:59:57  \n"
     ]
    }
   ],
   "source": [
    "dfss = transDF(dfs, stamp_name, header_names, stock_names)"
   ]
  },
  {
   "cell_type": "code",
   "execution_count": 268,
   "metadata": {},
   "outputs": [
    {
     "data": {
      "text/html": [
       "<div>\n",
       "<style>\n",
       "    .dataframe thead tr:only-child th {\n",
       "        text-align: right;\n",
       "    }\n",
       "\n",
       "    .dataframe thead th {\n",
       "        text-align: left;\n",
       "    }\n",
       "\n",
       "    .dataframe tbody tr th {\n",
       "        vertical-align: top;\n",
       "    }\n",
       "</style>\n",
       "<table border=\"1\" class=\"dataframe\">\n",
       "  <thead>\n",
       "    <tr style=\"text-align: right;\">\n",
       "      <th></th>\n",
       "      <th></th>\n",
       "      <th>sym</th>\n",
       "      <th>$</th>\n",
       "      <th>vol</th>\n",
       "      <th>4. timestamp</th>\n",
       "      <th>stamp</th>\n",
       "    </tr>\n",
       "    <tr>\n",
       "      <th>date</th>\n",
       "      <th>time</th>\n",
       "      <th></th>\n",
       "      <th></th>\n",
       "      <th></th>\n",
       "      <th></th>\n",
       "      <th></th>\n",
       "    </tr>\n",
       "  </thead>\n",
       "  <tbody>\n",
       "    <tr>\n",
       "      <th rowspan=\"5\" valign=\"top\">2018-06-05</th>\n",
       "      <th>15:59:46</th>\n",
       "      <td>Goldman Sachs Group Inc, (GS)</td>\n",
       "      <td>228.3000</td>\n",
       "      <td>--</td>\n",
       "      <td>2018-06-05 15:59:46</td>\n",
       "      <td>2018-06-05 15:59:46</td>\n",
       "    </tr>\n",
       "    <tr>\n",
       "      <th>15:59:53</th>\n",
       "      <td>Lockheed Martin Corporation, (LMT)</td>\n",
       "      <td>320.1300</td>\n",
       "      <td>--</td>\n",
       "      <td>2018-06-05 15:59:53</td>\n",
       "      <td>2018-06-05 15:59:53</td>\n",
       "    </tr>\n",
       "    <tr>\n",
       "      <th>15:59:55</th>\n",
       "      <td>TESLA, (TSLA)</td>\n",
       "      <td>290.9400</td>\n",
       "      <td>--</td>\n",
       "      <td>2018-06-05 15:59:55</td>\n",
       "      <td>2018-06-05 15:59:55</td>\n",
       "    </tr>\n",
       "    <tr>\n",
       "      <th>15:59:55</th>\n",
       "      <td>Microsoft Corporation, (MSFT)</td>\n",
       "      <td>102.2100</td>\n",
       "      <td>--</td>\n",
       "      <td>2018-06-05 15:59:55</td>\n",
       "      <td>2018-06-05 15:59:55</td>\n",
       "    </tr>\n",
       "    <tr>\n",
       "      <th>15:59:57</th>\n",
       "      <td>Apple Inc., (AAPL)</td>\n",
       "      <td>193.3600</td>\n",
       "      <td>--</td>\n",
       "      <td>2018-06-05 15:59:57</td>\n",
       "      <td>2018-06-05 15:59:57</td>\n",
       "    </tr>\n",
       "  </tbody>\n",
       "</table>\n",
       "</div>"
      ],
      "text/plain": [
       "                                                    sym         $ vol  \\\n",
       "date       time                                                         \n",
       "2018-06-05 15:59:46       Goldman Sachs Group Inc, (GS)  228.3000  --   \n",
       "           15:59:53  Lockheed Martin Corporation, (LMT)  320.1300  --   \n",
       "           15:59:55                       TESLA, (TSLA)  290.9400  --   \n",
       "           15:59:55       Microsoft Corporation, (MSFT)  102.2100  --   \n",
       "           15:59:57                  Apple Inc., (AAPL)  193.3600  --   \n",
       "\n",
       "                            4. timestamp               stamp  \n",
       "date       time                                               \n",
       "2018-06-05 15:59:46  2018-06-05 15:59:46 2018-06-05 15:59:46  \n",
       "           15:59:53  2018-06-05 15:59:53 2018-06-05 15:59:53  \n",
       "           15:59:55  2018-06-05 15:59:55 2018-06-05 15:59:55  \n",
       "           15:59:55  2018-06-05 15:59:55 2018-06-05 15:59:55  \n",
       "           15:59:57  2018-06-05 15:59:57 2018-06-05 15:59:57  "
      ]
     },
     "execution_count": 268,
     "metadata": {},
     "output_type": "execute_result"
    }
   ],
   "source": [
    "dfss.head()"
   ]
  },
  {
   "cell_type": "code",
   "execution_count": 269,
   "metadata": {},
   "outputs": [],
   "source": [
    "s_hr_min = dfss.index.get_level_values('time').min()\n",
    "s_hr_max = dfss.index.get_level_values('time').max()"
   ]
  },
  {
   "cell_type": "code",
   "execution_count": 270,
   "metadata": {},
   "outputs": [
    {
     "data": {
      "text/plain": [
       "(datetime.time(8, 19, 30), datetime.time(16, 59, 59))"
      ]
     },
     "execution_count": 270,
     "metadata": {},
     "output_type": "execute_result"
    }
   ],
   "source": [
    "s_hr_min, s_hr_max"
   ]
  },
  {
   "cell_type": "markdown",
   "metadata": {},
   "source": [
    "## Tweets"
   ]
  },
  {
   "cell_type": "code",
   "execution_count": 271,
   "metadata": {},
   "outputs": [],
   "source": [
    "hashtag_map = {'nike':'Nike Inc, (NKE)', \n",
    "               'facebook':'Facebook, Inc., (FB)', \n",
    "               'apple':'Apple Inc., (AAPL)', \n",
    "               'microsoft':'Microsoft Corporation, (MSFT)', \n",
    "               'mcdonalds':'McDonalds Corporation, (MCD)', \n",
    "               'tesla':'TESLA, (TSLA)',\n",
    "               'n/a':'NA', \n",
    "               'goldmansachs':'Goldman Sachs Group Inc, (GS)', \n",
    "               'alphabet':'Alphabet Inc., (GOOGL)', \n",
    "               'pfizer':'Pfizer Inc., (PFE)'}"
   ]
  },
  {
   "cell_type": "code",
   "execution_count": 272,
   "metadata": {},
   "outputs": [],
   "source": [
    "def buildDFbis(base_dir, data_dir):\n",
    "    '''Construct a big dataframe by aggregating the individual csv files\n",
    "    located at the proper data directory\n",
    "    Args:\n",
    "        base_dir(str), the home or base directory\n",
    "        data_dir(str), the directory containing the data\n",
    "    return:\n",
    "        df(dataframe), full dataframe iaw csv structure'''\n",
    "    folder = os.path.join(base_dir + data_dir)\n",
    "    files = os.listdir(folder)\n",
    "    file_path = os.path.join(folder + files[0])\n",
    "    # Dataframe\n",
    "    df = pd.read_csv(file_path,\n",
    "                     sep=';',\n",
    "                     parse_dates={'stamp':['timestamp']},\n",
    "                     keep_date_col=False)\n",
    "    print('Dataframe created from: ', file_path)\n",
    "    print('with length: ', len(df))\n",
    "    print('--- Dataframe processing ---')\n",
    "    print('Creating date and time columns from timestamp')\n",
    "    df['date'] = df['stamp'].dt.date\n",
    "    df['time'] = df['stamp'].dt.time\n",
    "    print('Setting date and time as Index...')\n",
    "    df.set_index(['date', 'time'], inplace=True)\n",
    "    return df"
   ]
  },
  {
   "cell_type": "code",
   "execution_count": 273,
   "metadata": {},
   "outputs": [
    {
     "name": "stdout",
     "output_type": "stream",
     "text": [
      "Dataframe created from:  /home/hase/Documents/ZHAW/MAIN/04_Big_Data/30_Project/spark-stock-market-streaming/collected_tweets_csv_raw/tweets.csv\n",
      "with length:  171273\n",
      "--- Dataframe processing ---\n",
      "Creating date and time columns from timestamp\n",
      "Setting date and time as Index...\n"
     ]
    }
   ],
   "source": [
    "dft = buildDFbis(home_dir, tweet_dir)"
   ]
  },
  {
   "cell_type": "code",
   "execution_count": 274,
   "metadata": {},
   "outputs": [
    {
     "data": {
      "text/html": [
       "<div>\n",
       "<style>\n",
       "    .dataframe thead tr:only-child th {\n",
       "        text-align: right;\n",
       "    }\n",
       "\n",
       "    .dataframe thead th {\n",
       "        text-align: left;\n",
       "    }\n",
       "\n",
       "    .dataframe tbody tr th {\n",
       "        vertical-align: top;\n",
       "    }\n",
       "</style>\n",
       "<table border=\"1\" class=\"dataframe\">\n",
       "  <thead>\n",
       "    <tr style=\"text-align: right;\">\n",
       "      <th></th>\n",
       "      <th></th>\n",
       "      <th>stamp</th>\n",
       "      <th>hashtag</th>\n",
       "      <th>cnt</th>\n",
       "      <th>followers_count</th>\n",
       "      <th>log_followers_count</th>\n",
       "    </tr>\n",
       "    <tr>\n",
       "      <th>date</th>\n",
       "      <th>time</th>\n",
       "      <th></th>\n",
       "      <th></th>\n",
       "      <th></th>\n",
       "      <th></th>\n",
       "      <th></th>\n",
       "    </tr>\n",
       "  </thead>\n",
       "  <tbody>\n",
       "    <tr>\n",
       "      <th rowspan=\"5\" valign=\"top\">2018-06-09</th>\n",
       "      <th>03:10:23</th>\n",
       "      <td>2018-06-09 03:10:23</td>\n",
       "      <td>apple</td>\n",
       "      <td>1</td>\n",
       "      <td>287</td>\n",
       "      <td>5.659482</td>\n",
       "    </tr>\n",
       "    <tr>\n",
       "      <th>03:10:28</th>\n",
       "      <td>2018-06-09 03:10:28</td>\n",
       "      <td>apple</td>\n",
       "      <td>1</td>\n",
       "      <td>535</td>\n",
       "      <td>6.282267</td>\n",
       "    </tr>\n",
       "    <tr>\n",
       "      <th>03:10:30</th>\n",
       "      <td>2018-06-09 03:10:30</td>\n",
       "      <td>nike</td>\n",
       "      <td>1</td>\n",
       "      <td>66</td>\n",
       "      <td>4.189655</td>\n",
       "    </tr>\n",
       "    <tr>\n",
       "      <th>03:10:32</th>\n",
       "      <td>2018-06-09 03:10:32</td>\n",
       "      <td>apple</td>\n",
       "      <td>1</td>\n",
       "      <td>39384</td>\n",
       "      <td>10.581115</td>\n",
       "    </tr>\n",
       "    <tr>\n",
       "      <th>03:10:33</th>\n",
       "      <td>2018-06-09 03:10:33</td>\n",
       "      <td>facebook</td>\n",
       "      <td>1</td>\n",
       "      <td>11822</td>\n",
       "      <td>9.377717</td>\n",
       "    </tr>\n",
       "  </tbody>\n",
       "</table>\n",
       "</div>"
      ],
      "text/plain": [
       "                                  stamp   hashtag  cnt  followers_count  \\\n",
       "date       time                                                           \n",
       "2018-06-09 03:10:23 2018-06-09 03:10:23     apple    1              287   \n",
       "           03:10:28 2018-06-09 03:10:28     apple    1              535   \n",
       "           03:10:30 2018-06-09 03:10:30      nike    1               66   \n",
       "           03:10:32 2018-06-09 03:10:32     apple    1            39384   \n",
       "           03:10:33 2018-06-09 03:10:33  facebook    1            11822   \n",
       "\n",
       "                     log_followers_count  \n",
       "date       time                           \n",
       "2018-06-09 03:10:23             5.659482  \n",
       "           03:10:28             6.282267  \n",
       "           03:10:30             4.189655  \n",
       "           03:10:32            10.581115  \n",
       "           03:10:33             9.377717  "
      ]
     },
     "execution_count": 274,
     "metadata": {},
     "output_type": "execute_result"
    }
   ],
   "source": [
    "dft.head()"
   ]
  },
  {
   "cell_type": "code",
   "execution_count": 275,
   "metadata": {},
   "outputs": [],
   "source": [
    "# Slice tweet dataframe to an equal stock timestamp\n",
    "stock_hr_min = dfss.index.get_level_values('time').min()\n",
    "stock_hr_max = dfss.index.get_level_values('time').max()\n",
    "tweet_hr_min = dft.index.get_level_values('time').min()\n",
    "tweet_hr_max = dft.index.get_level_values('time').max()\n",
    "mask_hr_min = dft.index.get_level_values('time') > stock_hr_min\n",
    "dft = dft.loc[mask_hr_min]\n",
    "mask_hr_max = dft.index.get_level_values('time') < stock_hr_max\n",
    "dft = dft.loc[mask_hr_max]"
   ]
  },
  {
   "cell_type": "code",
   "execution_count": 276,
   "metadata": {},
   "outputs": [
    {
     "data": {
      "text/html": [
       "<div>\n",
       "<style>\n",
       "    .dataframe thead tr:only-child th {\n",
       "        text-align: right;\n",
       "    }\n",
       "\n",
       "    .dataframe thead th {\n",
       "        text-align: left;\n",
       "    }\n",
       "\n",
       "    .dataframe tbody tr th {\n",
       "        vertical-align: top;\n",
       "    }\n",
       "</style>\n",
       "<table border=\"1\" class=\"dataframe\">\n",
       "  <thead>\n",
       "    <tr style=\"text-align: right;\">\n",
       "      <th></th>\n",
       "      <th></th>\n",
       "      <th>stamp</th>\n",
       "      <th>hashtag</th>\n",
       "      <th>cnt</th>\n",
       "      <th>followers_count</th>\n",
       "      <th>log_followers_count</th>\n",
       "    </tr>\n",
       "    <tr>\n",
       "      <th>date</th>\n",
       "      <th>time</th>\n",
       "      <th></th>\n",
       "      <th></th>\n",
       "      <th></th>\n",
       "      <th></th>\n",
       "      <th></th>\n",
       "    </tr>\n",
       "  </thead>\n",
       "  <tbody>\n",
       "    <tr>\n",
       "      <th rowspan=\"5\" valign=\"top\">2018-06-09</th>\n",
       "      <th>08:19:34</th>\n",
       "      <td>2018-06-09 08:19:34</td>\n",
       "      <td>nike</td>\n",
       "      <td>1</td>\n",
       "      <td>3</td>\n",
       "      <td>1.098612</td>\n",
       "    </tr>\n",
       "    <tr>\n",
       "      <th>08:19:39</th>\n",
       "      <td>2018-06-09 08:19:39</td>\n",
       "      <td>nike</td>\n",
       "      <td>1</td>\n",
       "      <td>59</td>\n",
       "      <td>4.077537</td>\n",
       "    </tr>\n",
       "    <tr>\n",
       "      <th>08:19:41</th>\n",
       "      <td>2018-06-09 08:19:41</td>\n",
       "      <td>nike</td>\n",
       "      <td>1</td>\n",
       "      <td>26</td>\n",
       "      <td>3.258097</td>\n",
       "    </tr>\n",
       "    <tr>\n",
       "      <th>08:19:42</th>\n",
       "      <td>2018-06-09 08:19:42</td>\n",
       "      <td>mcdonalds</td>\n",
       "      <td>1</td>\n",
       "      <td>1</td>\n",
       "      <td>0.000000</td>\n",
       "    </tr>\n",
       "    <tr>\n",
       "      <th>08:19:47</th>\n",
       "      <td>2018-06-09 08:19:47</td>\n",
       "      <td>apple</td>\n",
       "      <td>1</td>\n",
       "      <td>51</td>\n",
       "      <td>3.931826</td>\n",
       "    </tr>\n",
       "  </tbody>\n",
       "</table>\n",
       "</div>"
      ],
      "text/plain": [
       "                                  stamp    hashtag  cnt  followers_count  \\\n",
       "date       time                                                            \n",
       "2018-06-09 08:19:34 2018-06-09 08:19:34       nike    1                3   \n",
       "           08:19:39 2018-06-09 08:19:39       nike    1               59   \n",
       "           08:19:41 2018-06-09 08:19:41       nike    1               26   \n",
       "           08:19:42 2018-06-09 08:19:42  mcdonalds    1                1   \n",
       "           08:19:47 2018-06-09 08:19:47      apple    1               51   \n",
       "\n",
       "                     log_followers_count  \n",
       "date       time                           \n",
       "2018-06-09 08:19:34             1.098612  \n",
       "           08:19:39             4.077537  \n",
       "           08:19:41             3.258097  \n",
       "           08:19:42             0.000000  \n",
       "           08:19:47             3.931826  "
      ]
     },
     "execution_count": 276,
     "metadata": {},
     "output_type": "execute_result"
    }
   ],
   "source": [
    "dft.head()"
   ]
  },
  {
   "cell_type": "code",
   "execution_count": 331,
   "metadata": {},
   "outputs": [],
   "source": [
    "dft['stamp_round'] = dft.stamp.dt.round('1Min')"
   ]
  },
  {
   "cell_type": "code",
   "execution_count": 332,
   "metadata": {},
   "outputs": [],
   "source": [
    "c = dft.groupby(['stamp_round'])['log_followers_count'].sum()"
   ]
  },
  {
   "cell_type": "code",
   "execution_count": 333,
   "metadata": {},
   "outputs": [
    {
     "data": {
      "text/plain": [
       "stamp_round\n",
       "2018-06-09 08:20:00    178.598008\n",
       "2018-06-09 08:21:00    201.026977\n",
       "2018-06-09 08:22:00    153.596335\n",
       "2018-06-09 08:23:00    147.767965\n",
       "2018-06-09 08:24:00    146.745374\n",
       "Name: log_followers_count, dtype: float64"
      ]
     },
     "execution_count": 333,
     "metadata": {},
     "output_type": "execute_result"
    }
   ],
   "source": [
    "c.head()"
   ]
  },
  {
   "cell_type": "code",
   "execution_count": 334,
   "metadata": {},
   "outputs": [
    {
     "data": {
      "text/plain": [
       "DatetimeIndex(['2018-06-09 08:20:00', '2018-06-09 08:21:00',\n",
       "               '2018-06-09 08:22:00', '2018-06-09 08:23:00',\n",
       "               '2018-06-09 08:24:00', '2018-06-09 08:25:00',\n",
       "               '2018-06-09 08:26:00', '2018-06-09 08:27:00',\n",
       "               '2018-06-09 08:28:00', '2018-06-09 08:29:00',\n",
       "               ...\n",
       "               '2018-06-12 16:53:00', '2018-06-12 16:54:00',\n",
       "               '2018-06-12 16:55:00', '2018-06-12 16:56:00',\n",
       "               '2018-06-12 16:57:00', '2018-06-12 16:58:00',\n",
       "               '2018-06-12 16:59:00', '2018-06-12 17:00:00',\n",
       "               '2018-06-13 10:12:00', '2018-06-13 10:13:00'],\n",
       "              dtype='datetime64[ns]', name='stamp_round', length=2086, freq=None)"
      ]
     },
     "execution_count": 334,
     "metadata": {},
     "output_type": "execute_result"
    }
   ],
   "source": [
    "c.index"
   ]
  },
  {
   "cell_type": "code",
   "execution_count": 329,
   "metadata": {},
   "outputs": [
    {
     "data": {
      "text/plain": [
       "stamp_round\n",
       "2018-06-09 08:20:00     533.221320\n",
       "2018-06-09 08:25:00     675.804657\n",
       "2018-06-09 08:30:00     739.337659\n",
       "2018-06-09 08:35:00     601.800495\n",
       "2018-06-09 08:40:00     726.595835\n",
       "2018-06-09 08:45:00     660.147264\n",
       "2018-06-09 08:50:00     734.997276\n",
       "2018-06-09 08:55:00     660.550036\n",
       "2018-06-09 09:00:00     828.862269\n",
       "2018-06-09 09:05:00     820.147048\n",
       "2018-06-09 09:10:00     813.141613\n",
       "2018-06-09 09:15:00     830.164758\n",
       "2018-06-09 09:20:00     788.429100\n",
       "2018-06-09 09:25:00     657.491009\n",
       "2018-06-09 09:30:00    1156.627323\n",
       "2018-06-09 09:35:00    1100.735832\n",
       "2018-06-09 09:40:00    1050.001003\n",
       "2018-06-09 09:45:00     940.215354\n",
       "2018-06-09 09:50:00     959.764449\n",
       "2018-06-09 09:55:00     741.485257\n",
       "2018-06-09 10:00:00    1382.112239\n",
       "2018-06-09 10:05:00     922.506912\n",
       "2018-06-09 10:10:00     818.679878\n",
       "2018-06-09 10:15:00     885.207178\n",
       "2018-06-09 10:20:00     911.483656\n",
       "2018-06-09 10:25:00     749.291543\n",
       "2018-06-09 10:30:00     877.760136\n",
       "2018-06-09 10:35:00     673.057043\n",
       "2018-06-09 10:40:00     706.604750\n",
       "2018-06-09 10:45:00     911.148214\n",
       "                          ...     \n",
       "2018-06-12 14:45:00     871.185105\n",
       "2018-06-12 14:50:00     882.733435\n",
       "2018-06-12 14:55:00     688.784160\n",
       "2018-06-12 15:00:00    1047.801746\n",
       "2018-06-12 15:05:00    1113.906664\n",
       "2018-06-12 15:10:00     766.110271\n",
       "2018-06-12 15:15:00     989.533150\n",
       "2018-06-12 15:20:00     789.285240\n",
       "2018-06-12 15:25:00     900.391180\n",
       "2018-06-12 15:30:00     986.454500\n",
       "2018-06-12 15:35:00     859.434884\n",
       "2018-06-12 15:40:00     825.394245\n",
       "2018-06-12 15:45:00     770.669662\n",
       "2018-06-12 15:50:00     749.458336\n",
       "2018-06-12 15:55:00     736.360791\n",
       "2018-06-12 16:00:00    1089.370381\n",
       "2018-06-12 16:05:00     792.902740\n",
       "2018-06-12 16:10:00     878.755487\n",
       "2018-06-12 16:15:00     819.743898\n",
       "2018-06-12 16:20:00     749.475575\n",
       "2018-06-12 16:25:00     544.485535\n",
       "2018-06-12 16:30:00     705.394027\n",
       "2018-06-12 16:35:00     620.834860\n",
       "2018-06-12 16:40:00     731.545506\n",
       "2018-06-12 16:45:00     732.521101\n",
       "2018-06-12 16:50:00     584.042503\n",
       "2018-06-12 16:55:00     530.549869\n",
       "2018-06-12 17:00:00     329.537068\n",
       "2018-06-13 10:10:00     131.657166\n",
       "2018-06-13 10:15:00      92.177037\n",
       "Name: log_followers_count, Length: 422, dtype: float64"
      ]
     },
     "execution_count": 329,
     "metadata": {},
     "output_type": "execute_result"
    }
   ],
   "source": [
    "c"
   ]
  },
  {
   "cell_type": "code",
   "execution_count": 320,
   "metadata": {},
   "outputs": [
    {
     "data": {
      "text/html": [
       "<div>\n",
       "<style>\n",
       "    .dataframe thead tr:only-child th {\n",
       "        text-align: right;\n",
       "    }\n",
       "\n",
       "    .dataframe thead th {\n",
       "        text-align: left;\n",
       "    }\n",
       "\n",
       "    .dataframe tbody tr th {\n",
       "        vertical-align: top;\n",
       "    }\n",
       "</style>\n",
       "<table border=\"1\" class=\"dataframe\">\n",
       "  <thead>\n",
       "    <tr style=\"text-align: right;\">\n",
       "      <th></th>\n",
       "      <th></th>\n",
       "      <th>stamp</th>\n",
       "      <th>hashtag</th>\n",
       "      <th>cnt</th>\n",
       "      <th>followers_count</th>\n",
       "      <th>log_followers_count</th>\n",
       "      <th>hora</th>\n",
       "      <th>minuto</th>\n",
       "      <th>stamp_round</th>\n",
       "      <th>stamp_rd</th>\n",
       "    </tr>\n",
       "    <tr>\n",
       "      <th>date</th>\n",
       "      <th>time</th>\n",
       "      <th></th>\n",
       "      <th></th>\n",
       "      <th></th>\n",
       "      <th></th>\n",
       "      <th></th>\n",
       "      <th></th>\n",
       "      <th></th>\n",
       "      <th></th>\n",
       "      <th></th>\n",
       "    </tr>\n",
       "  </thead>\n",
       "  <tbody>\n",
       "    <tr>\n",
       "      <th rowspan=\"5\" valign=\"top\">2018-06-09</th>\n",
       "      <th>08:19:34</th>\n",
       "      <td>2018-06-09 08:19:34</td>\n",
       "      <td>nike</td>\n",
       "      <td>1</td>\n",
       "      <td>3</td>\n",
       "      <td>1.098612</td>\n",
       "      <td>8</td>\n",
       "      <td>19</td>\n",
       "      <td>2018-06-09 08:20:00</td>\n",
       "      <td>08:20:00</td>\n",
       "    </tr>\n",
       "    <tr>\n",
       "      <th>08:19:39</th>\n",
       "      <td>2018-06-09 08:19:39</td>\n",
       "      <td>nike</td>\n",
       "      <td>1</td>\n",
       "      <td>59</td>\n",
       "      <td>4.077537</td>\n",
       "      <td>8</td>\n",
       "      <td>19</td>\n",
       "      <td>2018-06-09 08:20:00</td>\n",
       "      <td>08:20:00</td>\n",
       "    </tr>\n",
       "    <tr>\n",
       "      <th>08:19:41</th>\n",
       "      <td>2018-06-09 08:19:41</td>\n",
       "      <td>nike</td>\n",
       "      <td>1</td>\n",
       "      <td>26</td>\n",
       "      <td>3.258097</td>\n",
       "      <td>8</td>\n",
       "      <td>19</td>\n",
       "      <td>2018-06-09 08:20:00</td>\n",
       "      <td>08:20:00</td>\n",
       "    </tr>\n",
       "    <tr>\n",
       "      <th>08:19:42</th>\n",
       "      <td>2018-06-09 08:19:42</td>\n",
       "      <td>mcdonalds</td>\n",
       "      <td>1</td>\n",
       "      <td>1</td>\n",
       "      <td>0.000000</td>\n",
       "      <td>8</td>\n",
       "      <td>19</td>\n",
       "      <td>2018-06-09 08:20:00</td>\n",
       "      <td>08:20:00</td>\n",
       "    </tr>\n",
       "    <tr>\n",
       "      <th>08:19:47</th>\n",
       "      <td>2018-06-09 08:19:47</td>\n",
       "      <td>apple</td>\n",
       "      <td>1</td>\n",
       "      <td>51</td>\n",
       "      <td>3.931826</td>\n",
       "      <td>8</td>\n",
       "      <td>19</td>\n",
       "      <td>2018-06-09 08:20:00</td>\n",
       "      <td>08:20:00</td>\n",
       "    </tr>\n",
       "  </tbody>\n",
       "</table>\n",
       "</div>"
      ],
      "text/plain": [
       "                                  stamp    hashtag  cnt  followers_count  \\\n",
       "date       time                                                            \n",
       "2018-06-09 08:19:34 2018-06-09 08:19:34       nike    1                3   \n",
       "           08:19:39 2018-06-09 08:19:39       nike    1               59   \n",
       "           08:19:41 2018-06-09 08:19:41       nike    1               26   \n",
       "           08:19:42 2018-06-09 08:19:42  mcdonalds    1                1   \n",
       "           08:19:47 2018-06-09 08:19:47      apple    1               51   \n",
       "\n",
       "                     log_followers_count  hora  minuto         stamp_round  \\\n",
       "date       time                                                              \n",
       "2018-06-09 08:19:34             1.098612     8      19 2018-06-09 08:20:00   \n",
       "           08:19:39             4.077537     8      19 2018-06-09 08:20:00   \n",
       "           08:19:41             3.258097     8      19 2018-06-09 08:20:00   \n",
       "           08:19:42             0.000000     8      19 2018-06-09 08:20:00   \n",
       "           08:19:47             3.931826     8      19 2018-06-09 08:20:00   \n",
       "\n",
       "                     stamp_rd  \n",
       "date       time                \n",
       "2018-06-09 08:19:34  08:20:00  \n",
       "           08:19:39  08:20:00  \n",
       "           08:19:41  08:20:00  \n",
       "           08:19:42  08:20:00  \n",
       "           08:19:47  08:20:00  "
      ]
     },
     "execution_count": 320,
     "metadata": {},
     "output_type": "execute_result"
    }
   ],
   "source": [
    "dft.head()"
   ]
  },
  {
   "cell_type": "code",
   "execution_count": null,
   "metadata": {},
   "outputs": [],
   "source": [
    "dft.groupby(['stamp', 'time_min'])['log_followers_count'].sum()"
   ]
  },
  {
   "cell_type": "code",
   "execution_count": null,
   "metadata": {},
   "outputs": [],
   "source": []
  }
 ],
 "metadata": {
  "kernelspec": {
   "display_name": "Python [default]",
   "language": "python",
   "name": "python3"
  },
  "language_info": {
   "codemirror_mode": {
    "name": "ipython",
    "version": 3
   },
   "file_extension": ".py",
   "mimetype": "text/x-python",
   "name": "python",
   "nbconvert_exporter": "python",
   "pygments_lexer": "ipython3",
   "version": "3.6.4"
  }
 },
 "nbformat": 4,
 "nbformat_minor": 2
}
