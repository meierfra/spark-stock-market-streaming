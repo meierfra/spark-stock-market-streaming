{
 "cells": [
  {
   "cell_type": "markdown",
   "metadata": {},
   "source": [
    "# Playground Notebook\n",
    "## To try, validate and debug the code into the dashboard"
   ]
  },
  {
   "cell_type": "code",
   "execution_count": 1,
   "metadata": {},
   "outputs": [],
   "source": [
    "import pandas as pd\n",
    "from pandas.io.json import json_normalize\n",
    "import json\n",
    "import os"
   ]
  },
  {
   "cell_type": "markdown",
   "metadata": {},
   "source": [
    "## Stocks"
   ]
  },
  {
   "cell_type": "code",
   "execution_count": 2,
   "metadata": {},
   "outputs": [],
   "source": [
    "# Stock Names\n",
    "stock_names = {'GS':'Goldman Sachs Group Inc',\n",
    "               'LMT':'Lockheed Martin Corporation',\n",
    "               'TSLA':'TESLA',\n",
    "               'MSFT':'Microsoft Corporation',\n",
    "               'AAPL':'Apple Inc.',\n",
    "               'MCD':'McDonalds Corporation',\n",
    "               'NKE':'Nike Inc',\n",
    "               'PFE':'Pfizer Inc.',\n",
    "               'FB':'Facebook, Inc.',\n",
    "               'GOOGL':'Alphabet Inc.'\n",
    "              }"
   ]
  },
  {
   "cell_type": "code",
   "execution_count": 3,
   "metadata": {},
   "outputs": [],
   "source": [
    "# Name of timestamp to parse on the raw data file\n",
    "stamp_name = '4. timestamp'"
   ]
  },
  {
   "cell_type": "code",
   "execution_count": 4,
   "metadata": {},
   "outputs": [],
   "source": [
    "# Column names on the raw data file\n",
    "header_names = {'1. symbol':'sym',\n",
    "                '2. price':'$', \n",
    "                '3. volume':'vol'}"
   ]
  },
  {
   "cell_type": "code",
   "execution_count": 23,
   "metadata": {},
   "outputs": [],
   "source": [
    "# Directories and Files\n",
    "# Windows\n",
    "if os.name == 'nt':\n",
    "    home_dir = r'//userhome/users$/ksagilop/home/ZHAW/MAIN/04_Big_Data/'\n",
    "    stock_dir = r'spark-stock-market-streaming/collected_data/'\n",
    "    tweet_dir = r'spark-stock-market-streaming/collected_tweets_csv_raw/'\n",
    "# Linux\n",
    "else:\n",
    "    home_dir = os.path.expanduser(r'~/Documents/ZHAW/MAIN/04_Big_Data/30_Project/')\n",
    "    stock_dir = r'spark-stock-market-streaming/collected_data/'\n",
    "    tweet_dir = r'?'"
   ]
  },
  {
   "cell_type": "markdown",
   "metadata": {},
   "source": [
    "### Build Dataframe from json files"
   ]
  },
  {
   "cell_type": "code",
   "execution_count": 6,
   "metadata": {},
   "outputs": [],
   "source": [
    "def buildDF(base_dir, data_dir, json_col):\n",
    "    '''Construct a big dataframe by aggregating the individual json files\n",
    "    located at the proper data directory\n",
    "    Args:\n",
    "        base_dir(str), the home or base directory\n",
    "        data_dir(str), the directory containing the data\n",
    "        json_col(str), which column to normalize from the json file\n",
    "    return:\n",
    "        df(dataframe), full dataframe iaw json structure'''\n",
    "    folder = os.path.join(base_dir + data_dir)\n",
    "    files = os.listdir(folder)\n",
    "    count_files = 0\n",
    "    for file in files:\n",
    "        file_path = os.path.join(folder + file)\n",
    "        with open(file_path) as data_file:\n",
    "            data = json.load(data_file)\n",
    "            if count_files == 0:\n",
    "                df = json_normalize(data, json_col)\n",
    "                print('---- Base Dataframe ----')\n",
    "                print('Lenght of base dataframe is: ', len(df))\n",
    "                print(file_path)\n",
    "                print(df.head())\n",
    "                count_files += 1\n",
    "            else:\n",
    "                df_temp = json_normalize(data, json_col)\n",
    "                df = df.append(df_temp, ignore_index=True)\n",
    "                count_files += 1\n",
    "    print('------------------------')\n",
    "    print('Total files read: ' + str(count_files))\n",
    "    print('---- %d Dataframes appended ----' %count_files)\n",
    "    print('Total lenght of dataframe is: ', len(df))\n",
    "    return df"
   ]
  },
  {
   "cell_type": "code",
   "execution_count": 7,
   "metadata": {},
   "outputs": [
    {
     "name": "stdout",
     "output_type": "stream",
     "text": [
      "---- Base Dataframe ----\n",
      "Lenght of base dataframe is:  10\n",
      "//userhome/users$/ksagilop/home/ZHAW/MAIN/04_Big_Data/spark-stock-market-streaming/collected_data/20180606-140045.json\n",
      "  1. symbol  2. price 3. volume         4. timestamp\n",
      "0      TSLA  290.9400        --  2018-06-05 15:59:55\n",
      "1      AAPL  193.3600        --  2018-06-05 15:59:57\n",
      "2      MSFT  102.2100        --  2018-06-05 15:59:55\n",
      "3       MCD  159.4800        --  2018-06-05 15:59:57\n",
      "4       NKE   74.0600        --  2018-06-05 15:59:57\n",
      "------------------------\n",
      "Total files read: 2123\n",
      "---- 2123 Dataframes appended ----\n",
      "Total lenght of dataframe is:  21230\n"
     ]
    }
   ],
   "source": [
    "dfs = buildDF(home_dir, stock_dir, 'Stock Quotes')"
   ]
  },
  {
   "cell_type": "markdown",
   "metadata": {},
   "source": [
    "### Data Pre-processing"
   ]
  },
  {
   "cell_type": "code",
   "execution_count": 8,
   "metadata": {},
   "outputs": [],
   "source": [
    "def transDF(df, stamp, header, names):\n",
    "    '''Pre-processing of the data by doing some transformations\n",
    "    and aggregations to the dataframe created previously\n",
    "    Args:\n",
    "        df(dataframe): input dataframe\n",
    "        stamp(str): name column to parse for datetime\n",
    "        header(dict): a dictionary with {'original col name':'new col name'}\n",
    "        names(dict): a dictionary with the mapping {'stock abrev.':'stock full name'}\n",
    "    return:\n",
    "        df(dataframe): transformed dataframe'''\n",
    "    print('---- Input Dataframe ----')\n",
    "    print(df.head())\n",
    "    # Parse date and time\n",
    "    print('------------------------')\n",
    "    print('Parsing datetimes...')\n",
    "    df['stamp'] = pd.to_datetime(df[stamp])\n",
    "    df['date'] = df['stamp'].dt.date\n",
    "    #df['year'] = df['stamp'].dt.year\n",
    "    #df['month'] = df['stamp'].dt.strftime('%b')\n",
    "    #df['day'] = df['stamp'].dt.day\n",
    "    df['time'] = df['stamp'].dt.time\n",
    "    #print('Dropping auxiliary columns...')\n",
    "    #df.drop([stamp], axis=1, inplace=True) # Not needed as 'stamp' is used for x-axis\n",
    "    # Set dataframe index\n",
    "    df.set_index(['date', 'time'], inplace=True)\n",
    "    #df.set_index(['year', 'month', 'day', 'time'], inplace=True)\n",
    "    print('Multi-index set from: ', stamp)\n",
    "    print('Renaming columns...')\n",
    "    df.rename(columns=header, inplace=True)\n",
    "    print('Drop duplicates...')\n",
    "    original_len = len(df)\n",
    "    df.drop_duplicates(inplace=True)\n",
    "    drop_len = len(df)\n",
    "    print('Dataframe reduced from %d to %d rows' %(original_len, drop_len))\n",
    "    df.sort_index(inplace=True)\n",
    "    print('Renaming rows...')\n",
    "    for key, value in names.items():\n",
    "        mask = df.sym == key\n",
    "        df.loc[mask, 'sym'] = value + ', ' + '(' + key + ')'\n",
    "    print('---- Modified Dataframe ----')\n",
    "    print(df.head())\n",
    "    return df"
   ]
  },
  {
   "cell_type": "code",
   "execution_count": 9,
   "metadata": {},
   "outputs": [
    {
     "name": "stdout",
     "output_type": "stream",
     "text": [
      "---- Input Dataframe ----\n",
      "  1. symbol  2. price 3. volume         4. timestamp\n",
      "0      TSLA  290.9400        --  2018-06-05 15:59:55\n",
      "1      AAPL  193.3600        --  2018-06-05 15:59:57\n",
      "2      MSFT  102.2100        --  2018-06-05 15:59:55\n",
      "3       MCD  159.4800        --  2018-06-05 15:59:57\n",
      "4       NKE   74.0600        --  2018-06-05 15:59:57\n",
      "------------------------\n",
      "Parsing datetimes...\n",
      "Multi-index set from:  4. timestamp\n",
      "Renaming columns...\n",
      "Drop duplicates...\n",
      "Dataframe reduced from 21230 to 15057 rows\n",
      "Renaming rows...\n",
      "---- Modified Dataframe ----\n",
      "                                                    sym         $ vol  \\\n",
      "date       time                                                         \n",
      "2018-06-05 15:59:46       Goldman Sachs Group Inc, (GS)  228.3000  --   \n",
      "           15:59:53  Lockheed Martin Corporation, (LMT)  320.1300  --   \n",
      "           15:59:55                       TESLA, (TSLA)  290.9400  --   \n",
      "           15:59:55       Microsoft Corporation, (MSFT)  102.2100  --   \n",
      "           15:59:57                  Apple Inc., (AAPL)  193.3600  --   \n",
      "\n",
      "                            4. timestamp               stamp  \n",
      "date       time                                               \n",
      "2018-06-05 15:59:46  2018-06-05 15:59:46 2018-06-05 15:59:46  \n",
      "           15:59:53  2018-06-05 15:59:53 2018-06-05 15:59:53  \n",
      "           15:59:55  2018-06-05 15:59:55 2018-06-05 15:59:55  \n",
      "           15:59:55  2018-06-05 15:59:55 2018-06-05 15:59:55  \n",
      "           15:59:57  2018-06-05 15:59:57 2018-06-05 15:59:57  \n"
     ]
    }
   ],
   "source": [
    "dfss = transDF(dfs, stamp_name, header_names, stock_names)"
   ]
  },
  {
   "cell_type": "code",
   "execution_count": 10,
   "metadata": {},
   "outputs": [
    {
     "data": {
      "text/html": [
       "<div>\n",
       "<style>\n",
       "    .dataframe thead tr:only-child th {\n",
       "        text-align: right;\n",
       "    }\n",
       "\n",
       "    .dataframe thead th {\n",
       "        text-align: left;\n",
       "    }\n",
       "\n",
       "    .dataframe tbody tr th {\n",
       "        vertical-align: top;\n",
       "    }\n",
       "</style>\n",
       "<table border=\"1\" class=\"dataframe\">\n",
       "  <thead>\n",
       "    <tr style=\"text-align: right;\">\n",
       "      <th></th>\n",
       "      <th></th>\n",
       "      <th>sym</th>\n",
       "      <th>$</th>\n",
       "      <th>vol</th>\n",
       "      <th>4. timestamp</th>\n",
       "      <th>stamp</th>\n",
       "    </tr>\n",
       "    <tr>\n",
       "      <th>date</th>\n",
       "      <th>time</th>\n",
       "      <th></th>\n",
       "      <th></th>\n",
       "      <th></th>\n",
       "      <th></th>\n",
       "      <th></th>\n",
       "    </tr>\n",
       "  </thead>\n",
       "  <tbody>\n",
       "    <tr>\n",
       "      <th rowspan=\"5\" valign=\"top\">2018-06-05</th>\n",
       "      <th>15:59:46</th>\n",
       "      <td>Goldman Sachs Group Inc, (GS)</td>\n",
       "      <td>228.3000</td>\n",
       "      <td>--</td>\n",
       "      <td>2018-06-05 15:59:46</td>\n",
       "      <td>2018-06-05 15:59:46</td>\n",
       "    </tr>\n",
       "    <tr>\n",
       "      <th>15:59:53</th>\n",
       "      <td>Lockheed Martin Corporation, (LMT)</td>\n",
       "      <td>320.1300</td>\n",
       "      <td>--</td>\n",
       "      <td>2018-06-05 15:59:53</td>\n",
       "      <td>2018-06-05 15:59:53</td>\n",
       "    </tr>\n",
       "    <tr>\n",
       "      <th>15:59:55</th>\n",
       "      <td>TESLA, (TSLA)</td>\n",
       "      <td>290.9400</td>\n",
       "      <td>--</td>\n",
       "      <td>2018-06-05 15:59:55</td>\n",
       "      <td>2018-06-05 15:59:55</td>\n",
       "    </tr>\n",
       "    <tr>\n",
       "      <th>15:59:55</th>\n",
       "      <td>Microsoft Corporation, (MSFT)</td>\n",
       "      <td>102.2100</td>\n",
       "      <td>--</td>\n",
       "      <td>2018-06-05 15:59:55</td>\n",
       "      <td>2018-06-05 15:59:55</td>\n",
       "    </tr>\n",
       "    <tr>\n",
       "      <th>15:59:57</th>\n",
       "      <td>Apple Inc., (AAPL)</td>\n",
       "      <td>193.3600</td>\n",
       "      <td>--</td>\n",
       "      <td>2018-06-05 15:59:57</td>\n",
       "      <td>2018-06-05 15:59:57</td>\n",
       "    </tr>\n",
       "  </tbody>\n",
       "</table>\n",
       "</div>"
      ],
      "text/plain": [
       "                                                    sym         $ vol  \\\n",
       "date       time                                                         \n",
       "2018-06-05 15:59:46       Goldman Sachs Group Inc, (GS)  228.3000  --   \n",
       "           15:59:53  Lockheed Martin Corporation, (LMT)  320.1300  --   \n",
       "           15:59:55                       TESLA, (TSLA)  290.9400  --   \n",
       "           15:59:55       Microsoft Corporation, (MSFT)  102.2100  --   \n",
       "           15:59:57                  Apple Inc., (AAPL)  193.3600  --   \n",
       "\n",
       "                            4. timestamp               stamp  \n",
       "date       time                                               \n",
       "2018-06-05 15:59:46  2018-06-05 15:59:46 2018-06-05 15:59:46  \n",
       "           15:59:53  2018-06-05 15:59:53 2018-06-05 15:59:53  \n",
       "           15:59:55  2018-06-05 15:59:55 2018-06-05 15:59:55  \n",
       "           15:59:55  2018-06-05 15:59:55 2018-06-05 15:59:55  \n",
       "           15:59:57  2018-06-05 15:59:57 2018-06-05 15:59:57  "
      ]
     },
     "execution_count": 10,
     "metadata": {},
     "output_type": "execute_result"
    }
   ],
   "source": [
    "dfss.head()"
   ]
  },
  {
   "cell_type": "code",
   "execution_count": null,
   "metadata": {},
   "outputs": [],
   "source": []
  },
  {
   "cell_type": "markdown",
   "metadata": {},
   "source": [
    "## Tweets"
   ]
  },
  {
   "cell_type": "code",
   "execution_count": 32,
   "metadata": {},
   "outputs": [],
   "source": [
    "hashtag_map = {'nike':'Nike Inc, (NKE)', \n",
    "               'facebook':'Facebook, Inc., (FB)', \n",
    "               'apple':'Apple Inc., (AAPL)', \n",
    "               'microsoft':'Microsoft Corporation, (MSFT)', \n",
    "               'mcdonalds':'McDonalds Corporation, (MCD)', \n",
    "               'tesla':'TESLA, (TSLA)',\n",
    "               'n/a':'NA', \n",
    "               'goldmansachs':'Goldman Sachs Group Inc, (GS)', \n",
    "               'alphabet':'Alphabet Inc., (GOOGL)', \n",
    "               'pfizer':'Pfizer Inc., (PFE)'}"
   ]
  },
  {
   "cell_type": "code",
   "execution_count": 36,
   "metadata": {},
   "outputs": [],
   "source": [
    "def buildDFbis(base_dir, data_dir):\n",
    "    '''Construct a big dataframe by aggregating the individual csv files\n",
    "    located at the proper data directory\n",
    "    Args:\n",
    "        base_dir(str), the home or base directory\n",
    "        data_dir(str), the directory containing the data\n",
    "    return:\n",
    "        df(dataframe), full dataframe iaw csv structure'''\n",
    "    folder = os.path.join(base_dir + data_dir)\n",
    "    files = os.listdir(folder)\n",
    "    file_path = os.path.join(folder + files[0])\n",
    "    # Dataframe\n",
    "    df = pd.read_csv(file_path,\n",
    "                     sep=';',\n",
    "                     parse_dates={'stamp':['timestamp']},\n",
    "                     keep_date_col=False)\n",
    "    print('Dataframe created from: ', file_path)\n",
    "    print('with length: ', len(df))\n",
    "    print('--- Dataframe processing ---')\n",
    "    print('Creating date and time columns from timestamp')\n",
    "    df['date'] = df['stamp'].dt.date\n",
    "    df['time'] = df['stamp'].dt.time\n",
    "    print('Setting date and time as Index...')\n",
    "    df.set_index(['date', 'time'], inplace=True)\n",
    "    return df"
   ]
  },
  {
   "cell_type": "code",
   "execution_count": 37,
   "metadata": {},
   "outputs": [
    {
     "name": "stdout",
     "output_type": "stream",
     "text": [
      "Dataframe created from:  //userhome/users$/ksagilop/home/ZHAW/MAIN/04_Big_Data/spark-stock-market-streaming/collected_tweets_csv_raw/tweets.csv\n",
      "with length:  139773\n",
      "--- Dataframe processing ---\n",
      "Creating date and time columns from timestamp\n",
      "Setting date and time as Index...\n"
     ]
    }
   ],
   "source": [
    "dft = buildDFbis(home_dir, tweet_dir)"
   ]
  },
  {
   "cell_type": "code",
   "execution_count": 38,
   "metadata": {},
   "outputs": [
    {
     "data": {
      "text/html": [
       "<div>\n",
       "<style>\n",
       "    .dataframe thead tr:only-child th {\n",
       "        text-align: right;\n",
       "    }\n",
       "\n",
       "    .dataframe thead th {\n",
       "        text-align: left;\n",
       "    }\n",
       "\n",
       "    .dataframe tbody tr th {\n",
       "        vertical-align: top;\n",
       "    }\n",
       "</style>\n",
       "<table border=\"1\" class=\"dataframe\">\n",
       "  <thead>\n",
       "    <tr style=\"text-align: right;\">\n",
       "      <th></th>\n",
       "      <th></th>\n",
       "      <th>stamp</th>\n",
       "      <th>hashtag</th>\n",
       "      <th>cnt</th>\n",
       "      <th>followers_count</th>\n",
       "      <th>log_followers_count</th>\n",
       "    </tr>\n",
       "    <tr>\n",
       "      <th>date</th>\n",
       "      <th>time</th>\n",
       "      <th></th>\n",
       "      <th></th>\n",
       "      <th></th>\n",
       "      <th></th>\n",
       "      <th></th>\n",
       "    </tr>\n",
       "  </thead>\n",
       "  <tbody>\n",
       "    <tr>\n",
       "      <th rowspan=\"5\" valign=\"top\">2018-06-05</th>\n",
       "      <th>20:47:01</th>\n",
       "      <td>2018-06-05 20:47:01</td>\n",
       "      <td>nike</td>\n",
       "      <td>1</td>\n",
       "      <td>1379</td>\n",
       "      <td>7.229114</td>\n",
       "    </tr>\n",
       "    <tr>\n",
       "      <th>20:47:01</th>\n",
       "      <td>2018-06-05 20:47:01</td>\n",
       "      <td>facebook</td>\n",
       "      <td>1</td>\n",
       "      <td>323</td>\n",
       "      <td>5.777652</td>\n",
       "    </tr>\n",
       "    <tr>\n",
       "      <th>20:47:03</th>\n",
       "      <td>2018-06-05 20:47:03</td>\n",
       "      <td>apple</td>\n",
       "      <td>1</td>\n",
       "      <td>3930</td>\n",
       "      <td>8.276395</td>\n",
       "    </tr>\n",
       "    <tr>\n",
       "      <th>20:47:03</th>\n",
       "      <td>2018-06-05 20:47:03</td>\n",
       "      <td>nike</td>\n",
       "      <td>1</td>\n",
       "      <td>85</td>\n",
       "      <td>4.442651</td>\n",
       "    </tr>\n",
       "    <tr>\n",
       "      <th>20:47:04</th>\n",
       "      <td>2018-06-05 20:47:04</td>\n",
       "      <td>apple</td>\n",
       "      <td>1</td>\n",
       "      <td>6578</td>\n",
       "      <td>8.791486</td>\n",
       "    </tr>\n",
       "  </tbody>\n",
       "</table>\n",
       "</div>"
      ],
      "text/plain": [
       "                                  stamp   hashtag  cnt  followers_count  \\\n",
       "date       time                                                           \n",
       "2018-06-05 20:47:01 2018-06-05 20:47:01      nike    1             1379   \n",
       "           20:47:01 2018-06-05 20:47:01  facebook    1              323   \n",
       "           20:47:03 2018-06-05 20:47:03     apple    1             3930   \n",
       "           20:47:03 2018-06-05 20:47:03      nike    1               85   \n",
       "           20:47:04 2018-06-05 20:47:04     apple    1             6578   \n",
       "\n",
       "                     log_followers_count  \n",
       "date       time                           \n",
       "2018-06-05 20:47:01             7.229114  \n",
       "           20:47:01             5.777652  \n",
       "           20:47:03             8.276395  \n",
       "           20:47:03             4.442651  \n",
       "           20:47:04             8.791486  "
      ]
     },
     "execution_count": 38,
     "metadata": {},
     "output_type": "execute_result"
    }
   ],
   "source": [
    "dft.head()"
   ]
  },
  {
   "cell_type": "code",
   "execution_count": 64,
   "metadata": {},
   "outputs": [],
   "source": [
    "q = dft.iloc[0]['stamp']"
   ]
  },
  {
   "cell_type": "code",
   "execution_count": 66,
   "metadata": {},
   "outputs": [
    {
     "data": {
      "text/plain": [
       "Timestamp('2018-06-05 20:47:01')"
      ]
     },
     "execution_count": 66,
     "metadata": {},
     "output_type": "execute_result"
    }
   ],
   "source": [
    "q"
   ]
  },
  {
   "cell_type": "code",
   "execution_count": 72,
   "metadata": {},
   "outputs": [],
   "source": [
    "n = q.hour, q.minute"
   ]
  },
  {
   "cell_type": "code",
   "execution_count": 73,
   "metadata": {},
   "outputs": [
    {
     "data": {
      "text/plain": [
       "((20, 47), tuple)"
      ]
     },
     "execution_count": 73,
     "metadata": {},
     "output_type": "execute_result"
    }
   ],
   "source": [
    "n, type(n)"
   ]
  },
  {
   "cell_type": "code",
   "execution_count": 74,
   "metadata": {},
   "outputs": [
    {
     "data": {
      "text/plain": [
       "DatetimeIndex(['1970-01-01 00:00:00.000000020', '1970-01-01 00:00:00.000000047'], dtype='datetime64[ns]', freq=None)"
      ]
     },
     "execution_count": 74,
     "metadata": {},
     "output_type": "execute_result"
    }
   ],
   "source": [
    "pd.to_datetime"
   ]
  },
  {
   "cell_type": "code",
   "execution_count": null,
   "metadata": {},
   "outputs": [],
   "source": []
  }
 ],
 "metadata": {
  "kernelspec": {
   "display_name": "Python 3",
   "language": "python",
   "name": "python3"
  },
  "language_info": {
   "codemirror_mode": {
    "name": "ipython",
    "version": 3
   },
   "file_extension": ".py",
   "mimetype": "text/x-python",
   "name": "python",
   "nbconvert_exporter": "python",
   "pygments_lexer": "ipython3",
   "version": "3.6.4"
  }
 },
 "nbformat": 4,
 "nbformat_minor": 2
}
